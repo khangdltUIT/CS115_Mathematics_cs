{
  "nbformat": 4,
  "nbformat_minor": 0,
  "metadata": {
    "colab": {
      "name": "Techniques_for_imbalanced_data.ipynb",
      "provenance": [],
      "authorship_tag": "ABX9TyNxm8m0ERn8sOXSFYuppmMc",
      "include_colab_link": true
    },
    "kernelspec": {
      "name": "python3",
      "display_name": "Python 3"
    }
  },
  "cells": [
    {
      "cell_type": "markdown",
      "metadata": {
        "id": "view-in-github",
        "colab_type": "text"
      },
      "source": [
        "<a href=\"https://colab.research.google.com/github/khangdltUIT/CS115_Mathematics_cs/blob/main/Techniques_for_imbalanced_data.ipynb\" target=\"_parent\"><img src=\"https://colab.research.google.com/assets/colab-badge.svg\" alt=\"Open In Colab\"/></a>"
      ]
    },
    {
      "cell_type": "markdown",
      "metadata": {
        "id": "0N9mepBv46jD"
      },
      "source": [
        "# Techniques for processing imbalanced dataset ( brest cancer winconsin )\r\n",
        "* SMOTE\r\n",
        "* K-fold Cross-validation"
      ]
    },
    {
      "cell_type": "markdown",
      "metadata": {
        "id": "ui7tTK4R5K8x"
      },
      "source": [
        "## Download dataset"
      ]
    },
    {
      "cell_type": "code",
      "metadata": {
        "colab": {
          "base_uri": "https://localhost:8080/"
        },
        "id": "Rwk7nwTP4b4x",
        "outputId": "0cdefde4-6bae-41a8-95bc-a2717816932c"
      },
      "source": [
        "from google.colab import drive\r\n",
        "drive.mount(\"/content/drive\")"
      ],
      "execution_count": null,
      "outputs": [
        {
          "output_type": "stream",
          "text": [
            "Drive already mounted at /content/drive; to attempt to forcibly remount, call drive.mount(\"/content/drive\", force_remount=True).\n"
          ],
          "name": "stdout"
        }
      ]
    },
    {
      "cell_type": "code",
      "metadata": {
        "id": "FAJzR3aj4yfj"
      },
      "source": [
        "!cp '/content/drive/MyDrive/REPORT/Course Project/Mathematics for CS/breast_cancer_wisconsin.csv' '/content/breast_cancer_wisconsin.csv'"
      ],
      "execution_count": null,
      "outputs": []
    },
    {
      "cell_type": "markdown",
      "metadata": {
        "id": "nPdSOtSW5PVU"
      },
      "source": [
        "## Read dataset"
      ]
    },
    {
      "cell_type": "code",
      "metadata": {
        "id": "2Uk_nqsG5TcF"
      },
      "source": [
        "import pandas as pd\r\n",
        "from sklearn.model_selection import train_test_split"
      ],
      "execution_count": null,
      "outputs": []
    },
    {
      "cell_type": "code",
      "metadata": {
        "id": "TMz2glO15OXM"
      },
      "source": [
        "df = pd.read_csv(\"breast_cancer_wisconsin.csv\")"
      ],
      "execution_count": null,
      "outputs": []
    },
    {
      "cell_type": "code",
      "metadata": {
        "id": "8oEDCOyp5me5"
      },
      "source": [
        "features_name = ['radius_mean', 'texture_mean', 'perimeter_mean', 'area_mean', 'smoothness_mean', 'compactness_mean', 'concavity_mean', 'concave points_mean', 'symmetry_mean', 'fractal_dimension_mean', 'radius_se', 'texture_se', 'perimeter_se', 'area_se', 'smoothness_se', 'compactness_se', 'concavity_se', 'concave points_se', 'symmetry_se', 'fractal_dimension_se', 'radius_worst', 'texture_worst', 'perimeter_worst', 'area_worst', 'smoothness_worst', 'compactness_worst', 'concavity_worst', 'concave points_worst', 'symmetry_worst', 'fractal_dimension_worst']"
      ],
      "execution_count": null,
      "outputs": []
    },
    {
      "cell_type": "code",
      "metadata": {
        "id": "g0KnN9Wc5oKL"
      },
      "source": [
        "X = df[features_name]\r\n",
        "Y = df['diagnosis']"
      ],
      "execution_count": null,
      "outputs": []
    },
    {
      "cell_type": "code",
      "metadata": {
        "id": "-Hd-YRZh5qKC"
      },
      "source": [
        "train_X, test_X, train_Y, test_Y = train_test_split(X, Y, test_size = .2, random_state = 0)"
      ],
      "execution_count": null,
      "outputs": []
    },
    {
      "cell_type": "markdown",
      "metadata": {
        "id": "j3CxoMjW9PPo"
      },
      "source": [
        "## Library"
      ]
    },
    {
      "cell_type": "code",
      "metadata": {
        "id": "YxmbdkU99RwC"
      },
      "source": [
        "import pandas as pd\r\n",
        "import numpy as np\r\n",
        "import matplotlib.pyplot as plt\r\n",
        "import seaborn as sns\r\n",
        "from sklearn.model_selection import train_test_split\r\n",
        "from sklearn.metrics import accuracy_score, confusion_matrix, classification_report\r\n",
        "from sklearn.svm import LinearSVC\r\n",
        "from sklearn.svm import SVC\r\n",
        "from sklearn.metrics import accuracy_score,confusion_matrix,plot_confusion_matrix"
      ],
      "execution_count": null,
      "outputs": []
    },
    {
      "cell_type": "markdown",
      "metadata": {
        "id": "kPaaWGCc7CXU"
      },
      "source": [
        "## SMOTE"
      ]
    },
    {
      "cell_type": "code",
      "metadata": {
        "id": "nH29o0wJ7EjG"
      },
      "source": [
        "from imblearn.over_sampling import SVMSMOTE\r\n",
        "from imblearn.over_sampling import BorderlineSMOTE"
      ],
      "execution_count": null,
      "outputs": []
    },
    {
      "cell_type": "markdown",
      "metadata": {
        "id": "iOKGUXdM7WZ8"
      },
      "source": [
        "### SVM SMOTE"
      ]
    },
    {
      "cell_type": "code",
      "metadata": {
        "colab": {
          "base_uri": "https://localhost:8080/",
          "height": 538
        },
        "id": "C0bQNCLC7Ula",
        "outputId": "1eb6b9c5-99ff-4d34-be75-045aeb8a9bad"
      },
      "source": [
        "svmsmote = SVMSMOTE(sampling_strategy = 1, random_state=0)\r\n",
        "X_svmsmote, Y_svmsmote = svmsmote.fit_sample(train_X, train_Y)\r\n",
        "sns.countplot(Y_svmsmote)"
      ],
      "execution_count": null,
      "outputs": [
        {
          "output_type": "stream",
          "text": [
            "/usr/local/lib/python3.6/dist-packages/sklearn/utils/deprecation.py:87: FutureWarning: Function safe_indexing is deprecated; safe_indexing is deprecated in version 0.22 and will be removed in version 0.24.\n",
            "  warnings.warn(msg, category=FutureWarning)\n",
            "/usr/local/lib/python3.6/dist-packages/sklearn/utils/deprecation.py:87: FutureWarning: Function safe_indexing is deprecated; safe_indexing is deprecated in version 0.22 and will be removed in version 0.24.\n",
            "  warnings.warn(msg, category=FutureWarning)\n",
            "/usr/local/lib/python3.6/dist-packages/sklearn/utils/deprecation.py:87: FutureWarning: Function safe_indexing is deprecated; safe_indexing is deprecated in version 0.22 and will be removed in version 0.24.\n",
            "  warnings.warn(msg, category=FutureWarning)\n",
            "/usr/local/lib/python3.6/dist-packages/sklearn/utils/deprecation.py:87: FutureWarning: Function safe_indexing is deprecated; safe_indexing is deprecated in version 0.22 and will be removed in version 0.24.\n",
            "  warnings.warn(msg, category=FutureWarning)\n",
            "/usr/local/lib/python3.6/dist-packages/sklearn/utils/deprecation.py:87: FutureWarning: Function safe_indexing is deprecated; safe_indexing is deprecated in version 0.22 and will be removed in version 0.24.\n",
            "  warnings.warn(msg, category=FutureWarning)\n",
            "/usr/local/lib/python3.6/dist-packages/sklearn/utils/deprecation.py:87: FutureWarning: Function safe_indexing is deprecated; safe_indexing is deprecated in version 0.22 and will be removed in version 0.24.\n",
            "  warnings.warn(msg, category=FutureWarning)\n",
            "/usr/local/lib/python3.6/dist-packages/seaborn/_decorators.py:43: FutureWarning: Pass the following variable as a keyword arg: x. From version 0.12, the only valid positional argument will be `data`, and passing other arguments without an explicit keyword will result in an error or misinterpretation.\n",
            "  FutureWarning\n"
          ],
          "name": "stderr"
        },
        {
          "output_type": "execute_result",
          "data": {
            "text/plain": [
              "<matplotlib.axes._subplots.AxesSubplot at 0x7f7ed5570f60>"
            ]
          },
          "metadata": {
            "tags": []
          },
          "execution_count": 44
        },
        {
          "output_type": "display_data",
          "data": {
            "image/png": "[encoded data removed]",
            "text/plain": [
              "<Figure size 432x288 with 1 Axes>"
            ]
          },
          "metadata": {
            "tags": [],
            "needs_background": "light"
          }
        }
      ]
    },
    {
      "cell_type": "markdown",
      "metadata": {
        "id": "SwDefhXe7iH2"
      },
      "source": [
        "### Boderline SMOTE"
      ]
    },
    {
      "cell_type": "code",
      "metadata": {
        "colab": {
          "base_uri": "https://localhost:8080/",
          "height": 436
        },
        "id": "EcadNVPH7knv",
        "outputId": "0bca8935-a9dc-4958-88bb-d1e2adb08fde"
      },
      "source": [
        "bosmote = BorderlineSMOTE(sampling_strategy = 1, random_state=0)\r\n",
        "X_bosmote, Y_bosmote = bosmote.fit_sample(X, Y)\r\n",
        "sns.countplot(Y_bosmote)"
      ],
      "execution_count": null,
      "outputs": [
        {
          "output_type": "stream",
          "text": [
            "/usr/local/lib/python3.6/dist-packages/sklearn/utils/deprecation.py:87: FutureWarning: Function safe_indexing is deprecated; safe_indexing is deprecated in version 0.22 and will be removed in version 0.24.\n",
            "  warnings.warn(msg, category=FutureWarning)\n",
            "/usr/local/lib/python3.6/dist-packages/sklearn/utils/deprecation.py:87: FutureWarning: Function safe_indexing is deprecated; safe_indexing is deprecated in version 0.22 and will be removed in version 0.24.\n",
            "  warnings.warn(msg, category=FutureWarning)\n",
            "/usr/local/lib/python3.6/dist-packages/sklearn/utils/deprecation.py:87: FutureWarning: Function safe_indexing is deprecated; safe_indexing is deprecated in version 0.22 and will be removed in version 0.24.\n",
            "  warnings.warn(msg, category=FutureWarning)\n",
            "/usr/local/lib/python3.6/dist-packages/seaborn/_decorators.py:43: FutureWarning: Pass the following variable as a keyword arg: x. From version 0.12, the only valid positional argument will be `data`, and passing other arguments without an explicit keyword will result in an error or misinterpretation.\n",
            "  FutureWarning\n"
          ],
          "name": "stderr"
        },
        {
          "output_type": "execute_result",
          "data": {
            "text/plain": [
              "<matplotlib.axes._subplots.AxesSubplot at 0x7f7ed52db978>"
            ]
          },
          "metadata": {
            "tags": []
          },
          "execution_count": 45
        },
        {
          "output_type": "display_data",
          "data": {
            "image/png": "[encoded data removed]",
            "text/plain": [
              "<Figure size 432x288 with 1 Axes>"
            ]
          },
          "metadata": {
            "tags": [],
            "needs_background": "light"
          }
        }
      ]
    },
    {
      "cell_type": "markdown",
      "metadata": {
        "id": "zql7kI3i8D9A"
      },
      "source": [
        "## Performance "
      ]
    },
    {
      "cell_type": "code",
      "metadata": {
        "id": "xJbEx-ke8IiV"
      },
      "source": [
        "from sklearn.linear_model import LogisticRegression"
      ],
      "execution_count": null,
      "outputs": []
    },
    {
      "cell_type": "markdown",
      "metadata": {
        "id": "k1iHF0ci8U4a"
      },
      "source": [
        "define measurance"
      ]
    },
    {
      "cell_type": "code",
      "metadata": {
        "id": "6nSlL76H8TRi"
      },
      "source": [
        "def print_score(clf, X_train, y_train, X_test, y_test, train=True):\r\n",
        "    if train:\r\n",
        "        pred = clf.predict(X_train)\r\n",
        "        clf_report = pd.DataFrame(classification_report(y_train, pred, output_dict=True))\r\n",
        "        print(\"Train Result:\\n================================================\")\r\n",
        "        print(f\"Accuracy Score: {accuracy_score(y_train, pred) * 100:.2f}%\")\r\n",
        "        print(\"_______________________________________________\")\r\n",
        "        print(f\"CLASSIFICATION REPORT:\\n{clf_report}\")\r\n",
        "        print(\"_______________________________________________\")\r\n",
        "        print(f\"Confusion Matrix: \\n {confusion_matrix(y_train, pred)}\\n\")\r\n",
        "        \r\n",
        "    elif train==False:\r\n",
        "        pred = clf.predict(X_test)\r\n",
        "        clf_report = pd.DataFrame(classification_report(y_test, pred, output_dict=True))\r\n",
        "        print(\"Test Result:\\n================================================\")        \r\n",
        "        print(f\"Accuracy Score: {accuracy_score(y_test, pred) * 100:.2f}%\")\r\n",
        "        print(\"_______________________________________________\")\r\n",
        "        print(f\"CLASSIFICATION REPORT:\\n{clf_report}\")\r\n",
        "        print(\"_______________________________________________\")\r\n",
        "        print(f\"Confusion Matrix: \\n {confusion_matrix(y_test, pred)}\\n\")"
      ],
      "execution_count": null,
      "outputs": []
    },
    {
      "cell_type": "markdown",
      "metadata": {
        "id": "kOZ-ZIh-8G0q"
      },
      "source": [
        "### Logistic Regression"
      ]
    },
    {
      "cell_type": "code",
      "metadata": {
        "colab": {
          "base_uri": "https://localhost:8080/"
        },
        "id": "R8u6wVZZ8Qil",
        "outputId": "30f703e5-c4c9-4505-a47f-6d3acf1a9696"
      },
      "source": [
        "log_model = LogisticRegression()\r\n",
        "lr_notsmote = log_model.fit(train_X, train_Y)"
      ],
      "execution_count": null,
      "outputs": [
        {
          "output_type": "stream",
          "text": [
            "/usr/local/lib/python3.6/dist-packages/sklearn/linear_model/_logistic.py:940: ConvergenceWarning: lbfgs failed to converge (status=1):\n",
            "STOP: TOTAL NO. of ITERATIONS REACHED LIMIT.\n",
            "\n",
            "Increase the number of iterations (max_iter) or scale the data as shown in:\n",
            "    https://scikit-learn.org/stable/modules/preprocessing.html\n",
            "Please also refer to the documentation for alternative solver options:\n",
            "    https://scikit-learn.org/stable/modules/linear_model.html#logistic-regression\n",
            "  extra_warning_msg=_LOGISTIC_SOLVER_CONVERGENCE_MSG)\n"
          ],
          "name": "stderr"
        }
      ]
    },
    {
      "cell_type": "markdown",
      "metadata": {
        "id": "zC_gIQ5f8w68"
      },
      "source": [
        "Not use smote"
      ]
    },
    {
      "cell_type": "code",
      "metadata": {
        "colab": {
          "base_uri": "https://localhost:8080/"
        },
        "id": "g2wxV4w68kZV",
        "outputId": "bbfb79d7-8f2a-4dab-9aa8-f1bed043e051"
      },
      "source": [
        "lr_bosmote = log_model.fit(X_bosmote, Y_bosmote)"
      ],
      "execution_count": null,
      "outputs": [
        {
          "output_type": "stream",
          "text": [
            "/usr/local/lib/python3.6/dist-packages/sklearn/linear_model/_logistic.py:940: ConvergenceWarning: lbfgs failed to converge (status=1):\n",
            "STOP: TOTAL NO. of ITERATIONS REACHED LIMIT.\n",
            "\n",
            "Increase the number of iterations (max_iter) or scale the data as shown in:\n",
            "    https://scikit-learn.org/stable/modules/preprocessing.html\n",
            "Please also refer to the documentation for alternative solver options:\n",
            "    https://scikit-learn.org/stable/modules/linear_model.html#logistic-regression\n",
            "  extra_warning_msg=_LOGISTIC_SOLVER_CONVERGENCE_MSG)\n"
          ],
          "name": "stderr"
        }
      ]
    },
    {
      "cell_type": "markdown",
      "metadata": {
        "id": "IBQrN5G-8zP-"
      },
      "source": [
        "Use Boderline smote"
      ]
    },
    {
      "cell_type": "code",
      "metadata": {
        "colab": {
          "base_uri": "https://localhost:8080/"
        },
        "id": "aoTTziWO8whQ",
        "outputId": "515f8d9b-a87e-482b-98fc-16e0477089ab"
      },
      "source": [
        "lr_svmsmote = log_model.fit(X_svmsmote, Y_svmsmote)"
      ],
      "execution_count": null,
      "outputs": [
        {
          "output_type": "stream",
          "text": [
            "/usr/local/lib/python3.6/dist-packages/sklearn/linear_model/_logistic.py:940: ConvergenceWarning: lbfgs failed to converge (status=1):\n",
            "STOP: TOTAL NO. of ITERATIONS REACHED LIMIT.\n",
            "\n",
            "Increase the number of iterations (max_iter) or scale the data as shown in:\n",
            "    https://scikit-learn.org/stable/modules/preprocessing.html\n",
            "Please also refer to the documentation for alternative solver options:\n",
            "    https://scikit-learn.org/stable/modules/linear_model.html#logistic-regression\n",
            "  extra_warning_msg=_LOGISTIC_SOLVER_CONVERGENCE_MSG)\n"
          ],
          "name": "stderr"
        }
      ]
    },
    {
      "cell_type": "markdown",
      "metadata": {
        "id": "FA3oxLK69Abk"
      },
      "source": [
        "#### Performance between them"
      ]
    },
    {
      "cell_type": "code",
      "metadata": {
        "colab": {
          "base_uri": "https://localhost:8080/"
        },
        "id": "r0t6BXry9EsT",
        "outputId": "d2dacc28-4510-47b9-9a79-a8d0149b10ed"
      },
      "source": [
        "print_score(lr_notsmote, train_X, train_Y, test_X, test_Y, train = True)\r\n",
        "print_score(lr_notsmote, train_X, train_Y, test_X, test_Y, train = False)"
      ],
      "execution_count": null,
      "outputs": [
        {
          "output_type": "stream",
          "text": [
            "Train Result:\n",
            "================================================\n",
            "Accuracy Score: 94.95%\n",
            "_______________________________________________\n",
            "CLASSIFICATION REPORT:\n",
            "                    B           M  accuracy   macro avg  weighted avg\n",
            "precision    0.975089    0.908046  0.949451    0.941567      0.950777\n",
            "recall       0.944828    0.957576  0.949451    0.951202      0.949451\n",
            "f1-score     0.959720    0.932153  0.949451    0.945937      0.949723\n",
            "support    290.000000  165.000000  0.949451  455.000000    455.000000\n",
            "_______________________________________________\n",
            "Confusion Matrix: \n",
            " [[274  16]\n",
            " [  7 158]]\n",
            "\n",
            "Test Result:\n",
            "================================================\n",
            "Accuracy Score: 93.86%\n",
            "_______________________________________________\n",
            "CLASSIFICATION REPORT:\n",
            "                   B          M  accuracy   macro avg  weighted avg\n",
            "precision   0.983871   0.884615  0.938596    0.934243      0.942950\n",
            "recall      0.910448   0.978723  0.938596    0.944586      0.938596\n",
            "f1-score    0.945736   0.929293  0.938596    0.937515      0.938957\n",
            "support    67.000000  47.000000  0.938596  114.000000    114.000000\n",
            "_______________________________________________\n",
            "Confusion Matrix: \n",
            " [[61  6]\n",
            " [ 1 46]]\n",
            "\n"
          ],
          "name": "stdout"
        }
      ]
    },
    {
      "cell_type": "code",
      "metadata": {
        "colab": {
          "base_uri": "https://localhost:8080/"
        },
        "id": "XnVsO-IX9em5",
        "outputId": "6c0e13e0-82ca-4cc3-9ab1-83c259161f1b"
      },
      "source": [
        "print_score(lr_bosmote, X_bosmote, Y_bosmote, test_X, test_Y, train = True)\r\n",
        "print_score(lr_bosmote, X_bosmote, Y_bosmote, test_X, test_Y, train = False)"
      ],
      "execution_count": null,
      "outputs": [
        {
          "output_type": "stream",
          "text": [
            "Train Result:\n",
            "================================================\n",
            "Accuracy Score: 93.28%\n",
            "_______________________________________________\n",
            "CLASSIFICATION REPORT:\n",
            "                    B           M  accuracy   macro avg  weighted avg\n",
            "precision    0.927978    0.937677  0.932773    0.932827      0.932827\n",
            "recall       0.938375    0.927171  0.932773    0.932773      0.932773\n",
            "f1-score     0.933148    0.932394  0.932773    0.932771      0.932771\n",
            "support    357.000000  357.000000  0.932773  714.000000    714.000000\n",
            "_______________________________________________\n",
            "Confusion Matrix: \n",
            " [[335  22]\n",
            " [ 26 331]]\n",
            "\n",
            "Test Result:\n",
            "================================================\n",
            "Accuracy Score: 93.86%\n",
            "_______________________________________________\n",
            "CLASSIFICATION REPORT:\n",
            "                   B          M  accuracy   macro avg  weighted avg\n",
            "precision   0.983871   0.884615  0.938596    0.934243      0.942950\n",
            "recall      0.910448   0.978723  0.938596    0.944586      0.938596\n",
            "f1-score    0.945736   0.929293  0.938596    0.937515      0.938957\n",
            "support    67.000000  47.000000  0.938596  114.000000    114.000000\n",
            "_______________________________________________\n",
            "Confusion Matrix: \n",
            " [[61  6]\n",
            " [ 1 46]]\n",
            "\n"
          ],
          "name": "stdout"
        }
      ]
    },
    {
      "cell_type": "code",
      "metadata": {
        "colab": {
          "base_uri": "https://localhost:8080/"
        },
        "id": "g6PvmCmF9rr6",
        "outputId": "22db9ddd-4283-4a78-d1b9-f56fe3bf07da"
      },
      "source": [
        "print_score(lr_svmsmote, X_svmsmote, Y_svmsmote, test_X, test_Y, train = True)\r\n",
        "print_score(lr_svmsmote, X_svmsmote, Y_svmsmote, test_X, test_Y, train = False)"
      ],
      "execution_count": null,
      "outputs": [
        {
          "output_type": "stream",
          "text": [
            "Train Result:\n",
            "================================================\n",
            "Accuracy Score: 94.14%\n",
            "_______________________________________________\n",
            "CLASSIFICATION REPORT:\n",
            "                    B           M  accuracy   macro avg  weighted avg\n",
            "precision    0.938356    0.944444  0.941379    0.941400      0.941400\n",
            "recall       0.944828    0.937931  0.941379    0.941379      0.941379\n",
            "f1-score     0.941581    0.941176  0.941379    0.941379      0.941379\n",
            "support    290.000000  290.000000  0.941379  580.000000    580.000000\n",
            "_______________________________________________\n",
            "Confusion Matrix: \n",
            " [[274  16]\n",
            " [ 18 272]]\n",
            "\n",
            "Test Result:\n",
            "================================================\n",
            "Accuracy Score: 93.86%\n",
            "_______________________________________________\n",
            "CLASSIFICATION REPORT:\n",
            "                   B          M  accuracy   macro avg  weighted avg\n",
            "precision   0.983871   0.884615  0.938596    0.934243      0.942950\n",
            "recall      0.910448   0.978723  0.938596    0.944586      0.938596\n",
            "f1-score    0.945736   0.929293  0.938596    0.937515      0.938957\n",
            "support    67.000000  47.000000  0.938596  114.000000    114.000000\n",
            "_______________________________________________\n",
            "Confusion Matrix: \n",
            " [[61  6]\n",
            " [ 1 46]]\n",
            "\n"
          ],
          "name": "stdout"
        }
      ]
    },
    {
      "cell_type": "markdown",
      "metadata": {
        "id": "3sjd7JD7hCW8"
      },
      "source": [
        "## Combine oversampling and Undersampling"
      ]
    },
    {
      "cell_type": "code",
      "metadata": {
        "id": "ARbX2OohhB5l"
      },
      "source": [
        "from imblearn.combine import SMOTETomek"
      ],
      "execution_count": null,
      "outputs": []
    },
    {
      "cell_type": "code",
      "metadata": {
        "id": "6Qz_749khONN"
      },
      "source": [
        "smk = SMOTETomek()"
      ],
      "execution_count": null,
      "outputs": []
    },
    {
      "cell_type": "code",
      "metadata": {
        "colab": {
          "base_uri": "https://localhost:8080/",
          "height": 402
        },
        "id": "NMhRBSabhkvl",
        "outputId": "171a9e22-3630-4b49-e072-7fdecd8d95f9"
      },
      "source": [
        "X_cb, Y_cb = smk.fit_sample(train_X, train_Y)\r\n",
        "sns.countplot(Y_cb)"
      ],
      "execution_count": null,
      "outputs": [
        {
          "output_type": "stream",
          "text": [
            "/usr/local/lib/python3.6/dist-packages/sklearn/utils/deprecation.py:87: FutureWarning: Function safe_indexing is deprecated; safe_indexing is deprecated in version 0.22 and will be removed in version 0.24.\n",
            "  warnings.warn(msg, category=FutureWarning)\n",
            "/usr/local/lib/python3.6/dist-packages/sklearn/utils/deprecation.py:87: FutureWarning: Function safe_indexing is deprecated; safe_indexing is deprecated in version 0.22 and will be removed in version 0.24.\n",
            "  warnings.warn(msg, category=FutureWarning)\n",
            "/usr/local/lib/python3.6/dist-packages/seaborn/_decorators.py:43: FutureWarning: Pass the following variable as a keyword arg: x. From version 0.12, the only valid positional argument will be `data`, and passing other arguments without an explicit keyword will result in an error or misinterpretation.\n",
            "  FutureWarning\n"
          ],
          "name": "stderr"
        },
        {
          "output_type": "execute_result",
          "data": {
            "text/plain": [
              "<matplotlib.axes._subplots.AxesSubplot at 0x7f7eda74c9b0>"
            ]
          },
          "metadata": {
            "tags": []
          },
          "execution_count": 56
        },
        {
          "output_type": "display_data",
          "data": {
            "image/png": "[encoded data removed]",
            "text/plain": [
              "<Figure size 432x288 with 1 Axes>"
            ]
          },
          "metadata": {
            "tags": [],
            "needs_background": "light"
          }
        }
      ]
    },
    {
      "cell_type": "code",
      "metadata": {
        "colab": {
          "base_uri": "https://localhost:8080/"
        },
        "id": "fwG5uZVOjsqR",
        "outputId": "6847df9a-391f-43f2-c6e2-a25d0d9f2a46"
      },
      "source": [
        "lr_cb = log_model.fit(X_cb, Y_cb)"
      ],
      "execution_count": null,
      "outputs": [
        {
          "output_type": "stream",
          "text": [
            "/usr/local/lib/python3.6/dist-packages/sklearn/linear_model/_logistic.py:940: ConvergenceWarning: lbfgs failed to converge (status=1):\n",
            "STOP: TOTAL NO. of ITERATIONS REACHED LIMIT.\n",
            "\n",
            "Increase the number of iterations (max_iter) or scale the data as shown in:\n",
            "    https://scikit-learn.org/stable/modules/preprocessing.html\n",
            "Please also refer to the documentation for alternative solver options:\n",
            "    https://scikit-learn.org/stable/modules/linear_model.html#logistic-regression\n",
            "  extra_warning_msg=_LOGISTIC_SOLVER_CONVERGENCE_MSG)\n"
          ],
          "name": "stderr"
        }
      ]
    },
    {
      "cell_type": "code",
      "metadata": {
        "colab": {
          "base_uri": "https://localhost:8080/"
        },
        "id": "qlCtU68bi1_X",
        "outputId": "1e33b9d9-837c-4f31-ef29-6b1166ad1227"
      },
      "source": [
        "print_score(lr_cb, X_cb, Y_cb, test_X, test_Y, train = True)\r\n",
        "print_score(lr_cb, X_cb, Y_cb, test_X, test_Y, train = False)"
      ],
      "execution_count": null,
      "outputs": [
        {
          "output_type": "stream",
          "text": [
            "Train Result:\n",
            "================================================\n",
            "Accuracy Score: 97.00%\n",
            "_______________________________________________\n",
            "CLASSIFICATION REPORT:\n",
            "                    B           M  accuracy   macro avg  weighted avg\n",
            "precision    0.958621    0.981884  0.969965    0.970252      0.970252\n",
            "recall       0.982332    0.957597  0.969965    0.969965      0.969965\n",
            "f1-score     0.970332    0.969589  0.969965    0.969960      0.969960\n",
            "support    283.000000  283.000000  0.969965  566.000000    566.000000\n",
            "_______________________________________________\n",
            "Confusion Matrix: \n",
            " [[278   5]\n",
            " [ 12 271]]\n",
            "\n",
            "Test Result:\n",
            "================================================\n",
            "Accuracy Score: 93.86%\n",
            "_______________________________________________\n",
            "CLASSIFICATION REPORT:\n",
            "                   B          M  accuracy   macro avg  weighted avg\n",
            "precision   0.983871   0.884615  0.938596    0.934243      0.942950\n",
            "recall      0.910448   0.978723  0.938596    0.944586      0.938596\n",
            "f1-score    0.945736   0.929293  0.938596    0.937515      0.938957\n",
            "support    67.000000  47.000000  0.938596  114.000000    114.000000\n",
            "_______________________________________________\n",
            "Confusion Matrix: \n",
            " [[61  6]\n",
            " [ 1 46]]\n",
            "\n"
          ],
          "name": "stdout"
        }
      ]
    }
  ]
}