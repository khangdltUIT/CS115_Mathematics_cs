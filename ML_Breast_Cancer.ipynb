{
  "nbformat": 4,
  "nbformat_minor": 0,
  "metadata": {
    "colab": {
      "name": "ML_Breast_Cancer.ipynb",
      "provenance": [],
      "collapsed_sections": [],
      "toc_visible": true,
      "include_colab_link": true
    },
    "kernelspec": {
      "name": "python3",
      "display_name": "Python 3"
    }
  },
  "cells": [
    {
      "cell_type": "markdown",
      "metadata": {
        "id": "view-in-github",
        "colab_type": "text"
      },
      "source": [
        "<a href=\"https://colab.research.google.com/github/khangdltUIT/CS115_Mathematics_cs/blob/main/ML_Breast_Cancer.ipynb\" target=\"_parent\"><img src=\"https://colab.research.google.com/assets/colab-badge.svg\" alt=\"Open In Colab\"/></a>"
      ]
    },
    {
      "cell_type": "markdown",
      "metadata": {
        "id": "tHZ6-xyDTWdw"
      },
      "source": [
        "# Đồ án cuối kì\r\n",
        "# Dùng SVM phân biệt mức độ của bệnh nhân ung thư vú ( Binary Classification )\r\n",
        "* GVHD: TS. Lê Minh Hưng\r\n",
        "* Nhóm:\r\n",
        "1. Dương Lê Tường Khang 18520882\r\n",
        "2. Bùi Đào Gia Huy 18520818\r\n",
        "3. Lã Trường Hải 18520698"
      ]
    },
    {
      "cell_type": "markdown",
      "metadata": {
        "id": "oTn_h34ZKww2"
      },
      "source": [
        "# Download Dataset from Drive\n",
        "Link dataset: https://archive.ics.uci.edu/ml/datasets/Breast+Cancer+Wisconsin+%28Diagnostic%29"
      ]
    },
    {
      "cell_type": "code",
      "metadata": {
        "colab": {
          "base_uri": "https://localhost:8080/"
        },
        "id": "z3Ek68WsKOrl",
        "outputId": "e2997a12-74f7-4cbd-8b46-c2dbe773bf65"
      },
      "source": [
        "from google.colab import drive\n",
        "drive.mount('/content/drive')"
      ],
      "execution_count": null,
      "outputs": [
        {
          "output_type": "stream",
          "text": [
            "Mounted at /content/drive\n"
          ],
          "name": "stdout"
        }
      ]
    },
    {
      "cell_type": "code",
      "metadata": {
        "id": "vEqPbfiCKhZY"
      },
      "source": [
        "!cp '/content/drive/MyDrive/REPORT/Course Project/Mathematics for CS/breast_cancer_wisconsin.csv' '/content/breast_cancer_wisconsin.csv'"
      ],
      "execution_count": null,
      "outputs": []
    },
    {
      "cell_type": "markdown",
      "metadata": {
        "id": "i6GIl-zBNzRS"
      },
      "source": [
        "# Library"
      ]
    },
    {
      "cell_type": "code",
      "metadata": {
        "id": "ViASVI3eN4Jo"
      },
      "source": [
        "import pandas as pd\r\n",
        "import numpy as np\r\n",
        "import matplotlib.pyplot as plt\r\n",
        "import seaborn as sns\r\n",
        "from sklearn.model_selection import train_test_split\r\n",
        "from sklearn.metrics import accuracy_score, confusion_matrix, classification_report, plot_confusion_matrix\r\n",
        "from sklearn.svm import LinearSVC\r\n",
        "from sklearn.svm import SVC\r\n",
        "\r\n",
        "%matplotlib inline\r\n",
        "sns.set_style('whitegrid')"
      ],
      "execution_count": null,
      "outputs": []
    },
    {
      "cell_type": "markdown",
      "metadata": {
        "id": "5Hd9cmfuK0zA"
      },
      "source": [
        "#Analysis Dataset"
      ]
    },
    {
      "cell_type": "code",
      "metadata": {
        "colab": {
          "base_uri": "https://localhost:8080/",
          "height": 231
        },
        "id": "poEv-XqGK4BS",
        "outputId": "bee62a70-1518-486e-e7f1-ca5a72201ad2"
      },
      "source": [
        "df = pd.read_csv(\"/content/drive/MyDrive/breast_cancer_wisconsin.csv\")\n",
        "df.head()"
      ],
      "execution_count": null,
      "outputs": [
        {
          "output_type": "execute_result",
          "data": {
            "text/html": [
              "<div>\n",
              "<style scoped>\n",
              "    .dataframe tbody tr th:only-of-type {\n",
              "        vertical-align: middle;\n",
              "    }\n",
              "\n",
              "    .dataframe tbody tr th {\n",
              "        vertical-align: top;\n",
              "    }\n",
              "\n",
              "    .dataframe thead th {\n",
              "        text-align: right;\n",
              "    }\n",
              "</style>\n",
              "<table border=\"1\" class=\"dataframe\">\n",
              "  <thead>\n",
              "    <tr style=\"text-align: right;\">\n",
              "      <th></th>\n",
              "      <th>id</th>\n",
              "      <th>diagnosis</th>\n",
              "      <th>radius_mean</th>\n",
              "      <th>texture_mean</th>\n",
              "      <th>perimeter_mean</th>\n",
              "      <th>area_mean</th>\n",
              "      <th>smoothness_mean</th>\n",
              "      <th>compactness_mean</th>\n",
              "      <th>concavity_mean</th>\n",
              "      <th>concave points_mean</th>\n",
              "      <th>symmetry_mean</th>\n",
              "      <th>fractal_dimension_mean</th>\n",
              "      <th>radius_se</th>\n",
              "      <th>texture_se</th>\n",
              "      <th>perimeter_se</th>\n",
              "      <th>area_se</th>\n",
              "      <th>smoothness_se</th>\n",
              "      <th>compactness_se</th>\n",
              "      <th>concavity_se</th>\n",
              "      <th>concave points_se</th>\n",
              "      <th>symmetry_se</th>\n",
              "      <th>fractal_dimension_se</th>\n",
              "      <th>radius_worst</th>\n",
              "      <th>texture_worst</th>\n",
              "      <th>perimeter_worst</th>\n",
              "      <th>area_worst</th>\n",
              "      <th>smoothness_worst</th>\n",
              "      <th>compactness_worst</th>\n",
              "      <th>concavity_worst</th>\n",
              "      <th>concave points_worst</th>\n",
              "      <th>symmetry_worst</th>\n",
              "      <th>fractal_dimension_worst</th>\n",
              "      <th>Unnamed: 32</th>\n",
              "    </tr>\n",
              "  </thead>\n",
              "  <tbody>\n",
              "    <tr>\n",
              "      <th>0</th>\n",
              "      <td>842302</td>\n",
              "      <td>M</td>\n",
              "      <td>17.99</td>\n",
              "      <td>10.38</td>\n",
              "      <td>122.80</td>\n",
              "      <td>1001.0</td>\n",
              "      <td>0.11840</td>\n",
              "      <td>0.27760</td>\n",
              "      <td>0.3001</td>\n",
              "      <td>0.14710</td>\n",
              "      <td>0.2419</td>\n",
              "      <td>0.07871</td>\n",
              "      <td>1.0950</td>\n",
              "      <td>0.9053</td>\n",
              "      <td>8.589</td>\n",
              "      <td>153.40</td>\n",
              "      <td>0.006399</td>\n",
              "      <td>0.04904</td>\n",
              "      <td>0.05373</td>\n",
              "      <td>0.01587</td>\n",
              "      <td>0.03003</td>\n",
              "      <td>0.006193</td>\n",
              "      <td>25.38</td>\n",
              "      <td>17.33</td>\n",
              "      <td>184.60</td>\n",
              "      <td>2019.0</td>\n",
              "      <td>0.1622</td>\n",
              "      <td>0.6656</td>\n",
              "      <td>0.7119</td>\n",
              "      <td>0.2654</td>\n",
              "      <td>0.4601</td>\n",
              "      <td>0.11890</td>\n",
              "      <td>NaN</td>\n",
              "    </tr>\n",
              "    <tr>\n",
              "      <th>1</th>\n",
              "      <td>842517</td>\n",
              "      <td>M</td>\n",
              "      <td>20.57</td>\n",
              "      <td>17.77</td>\n",
              "      <td>132.90</td>\n",
              "      <td>1326.0</td>\n",
              "      <td>0.08474</td>\n",
              "      <td>0.07864</td>\n",
              "      <td>0.0869</td>\n",
              "      <td>0.07017</td>\n",
              "      <td>0.1812</td>\n",
              "      <td>0.05667</td>\n",
              "      <td>0.5435</td>\n",
              "      <td>0.7339</td>\n",
              "      <td>3.398</td>\n",
              "      <td>74.08</td>\n",
              "      <td>0.005225</td>\n",
              "      <td>0.01308</td>\n",
              "      <td>0.01860</td>\n",
              "      <td>0.01340</td>\n",
              "      <td>0.01389</td>\n",
              "      <td>0.003532</td>\n",
              "      <td>24.99</td>\n",
              "      <td>23.41</td>\n",
              "      <td>158.80</td>\n",
              "      <td>1956.0</td>\n",
              "      <td>0.1238</td>\n",
              "      <td>0.1866</td>\n",
              "      <td>0.2416</td>\n",
              "      <td>0.1860</td>\n",
              "      <td>0.2750</td>\n",
              "      <td>0.08902</td>\n",
              "      <td>NaN</td>\n",
              "    </tr>\n",
              "    <tr>\n",
              "      <th>2</th>\n",
              "      <td>84300903</td>\n",
              "      <td>M</td>\n",
              "      <td>19.69</td>\n",
              "      <td>21.25</td>\n",
              "      <td>130.00</td>\n",
              "      <td>1203.0</td>\n",
              "      <td>0.10960</td>\n",
              "      <td>0.15990</td>\n",
              "      <td>0.1974</td>\n",
              "      <td>0.12790</td>\n",
              "      <td>0.2069</td>\n",
              "      <td>0.05999</td>\n",
              "      <td>0.7456</td>\n",
              "      <td>0.7869</td>\n",
              "      <td>4.585</td>\n",
              "      <td>94.03</td>\n",
              "      <td>0.006150</td>\n",
              "      <td>0.04006</td>\n",
              "      <td>0.03832</td>\n",
              "      <td>0.02058</td>\n",
              "      <td>0.02250</td>\n",
              "      <td>0.004571</td>\n",
              "      <td>23.57</td>\n",
              "      <td>25.53</td>\n",
              "      <td>152.50</td>\n",
              "      <td>1709.0</td>\n",
              "      <td>0.1444</td>\n",
              "      <td>0.4245</td>\n",
              "      <td>0.4504</td>\n",
              "      <td>0.2430</td>\n",
              "      <td>0.3613</td>\n",
              "      <td>0.08758</td>\n",
              "      <td>NaN</td>\n",
              "    </tr>\n",
              "    <tr>\n",
              "      <th>3</th>\n",
              "      <td>84348301</td>\n",
              "      <td>M</td>\n",
              "      <td>11.42</td>\n",
              "      <td>20.38</td>\n",
              "      <td>77.58</td>\n",
              "      <td>386.1</td>\n",
              "      <td>0.14250</td>\n",
              "      <td>0.28390</td>\n",
              "      <td>0.2414</td>\n",
              "      <td>0.10520</td>\n",
              "      <td>0.2597</td>\n",
              "      <td>0.09744</td>\n",
              "      <td>0.4956</td>\n",
              "      <td>1.1560</td>\n",
              "      <td>3.445</td>\n",
              "      <td>27.23</td>\n",
              "      <td>0.009110</td>\n",
              "      <td>0.07458</td>\n",
              "      <td>0.05661</td>\n",
              "      <td>0.01867</td>\n",
              "      <td>0.05963</td>\n",
              "      <td>0.009208</td>\n",
              "      <td>14.91</td>\n",
              "      <td>26.50</td>\n",
              "      <td>98.87</td>\n",
              "      <td>567.7</td>\n",
              "      <td>0.2098</td>\n",
              "      <td>0.8663</td>\n",
              "      <td>0.6869</td>\n",
              "      <td>0.2575</td>\n",
              "      <td>0.6638</td>\n",
              "      <td>0.17300</td>\n",
              "      <td>NaN</td>\n",
              "    </tr>\n",
              "    <tr>\n",
              "      <th>4</th>\n",
              "      <td>84358402</td>\n",
              "      <td>M</td>\n",
              "      <td>20.29</td>\n",
              "      <td>14.34</td>\n",
              "      <td>135.10</td>\n",
              "      <td>1297.0</td>\n",
              "      <td>0.10030</td>\n",
              "      <td>0.13280</td>\n",
              "      <td>0.1980</td>\n",
              "      <td>0.10430</td>\n",
              "      <td>0.1809</td>\n",
              "      <td>0.05883</td>\n",
              "      <td>0.7572</td>\n",
              "      <td>0.7813</td>\n",
              "      <td>5.438</td>\n",
              "      <td>94.44</td>\n",
              "      <td>0.011490</td>\n",
              "      <td>0.02461</td>\n",
              "      <td>0.05688</td>\n",
              "      <td>0.01885</td>\n",
              "      <td>0.01756</td>\n",
              "      <td>0.005115</td>\n",
              "      <td>22.54</td>\n",
              "      <td>16.67</td>\n",
              "      <td>152.20</td>\n",
              "      <td>1575.0</td>\n",
              "      <td>0.1374</td>\n",
              "      <td>0.2050</td>\n",
              "      <td>0.4000</td>\n",
              "      <td>0.1625</td>\n",
              "      <td>0.2364</td>\n",
              "      <td>0.07678</td>\n",
              "      <td>NaN</td>\n",
              "    </tr>\n",
              "  </tbody>\n",
              "</table>\n",
              "</div>"
            ],
            "text/plain": [
              "         id diagnosis  ...  fractal_dimension_worst  Unnamed: 32\n",
              "0    842302         M  ...                  0.11890          NaN\n",
              "1    842517         M  ...                  0.08902          NaN\n",
              "2  84300903         M  ...                  0.08758          NaN\n",
              "3  84348301         M  ...                  0.17300          NaN\n",
              "4  84358402         M  ...                  0.07678          NaN\n",
              "\n",
              "[5 rows x 33 columns]"
            ]
          },
          "metadata": {
            "tags": []
          },
          "execution_count": 3
        }
      ]
    },
    {
      "cell_type": "markdown",
      "metadata": {
        "id": "dY4aDytUMDbz"
      },
      "source": [
        "## Features are used in datset:\n"
      ]
    },
    {
      "cell_type": "code",
      "metadata": {
        "colab": {
          "base_uri": "https://localhost:8080/",
          "height": 322
        },
        "id": "fFYd_bxGOUJ9",
        "outputId": "f15a074f-c74c-4d35-a86c-8b0b3779298a"
      },
      "source": [
        "df.describe()"
      ],
      "execution_count": null,
      "outputs": [
        {
          "output_type": "execute_result",
          "data": {
            "text/html": [
              "<div>\n",
              "<style scoped>\n",
              "    .dataframe tbody tr th:only-of-type {\n",
              "        vertical-align: middle;\n",
              "    }\n",
              "\n",
              "    .dataframe tbody tr th {\n",
              "        vertical-align: top;\n",
              "    }\n",
              "\n",
              "    .dataframe thead th {\n",
              "        text-align: right;\n",
              "    }\n",
              "</style>\n",
              "<table border=\"1\" class=\"dataframe\">\n",
              "  <thead>\n",
              "    <tr style=\"text-align: right;\">\n",
              "      <th></th>\n",
              "      <th>id</th>\n",
              "      <th>radius_mean</th>\n",
              "      <th>texture_mean</th>\n",
              "      <th>perimeter_mean</th>\n",
              "      <th>area_mean</th>\n",
              "      <th>smoothness_mean</th>\n",
              "      <th>compactness_mean</th>\n",
              "      <th>concavity_mean</th>\n",
              "      <th>concave points_mean</th>\n",
              "      <th>symmetry_mean</th>\n",
              "      <th>fractal_dimension_mean</th>\n",
              "      <th>radius_se</th>\n",
              "      <th>texture_se</th>\n",
              "      <th>perimeter_se</th>\n",
              "      <th>area_se</th>\n",
              "      <th>smoothness_se</th>\n",
              "      <th>compactness_se</th>\n",
              "      <th>concavity_se</th>\n",
              "      <th>concave points_se</th>\n",
              "      <th>symmetry_se</th>\n",
              "      <th>fractal_dimension_se</th>\n",
              "      <th>radius_worst</th>\n",
              "      <th>texture_worst</th>\n",
              "      <th>perimeter_worst</th>\n",
              "      <th>area_worst</th>\n",
              "      <th>smoothness_worst</th>\n",
              "      <th>compactness_worst</th>\n",
              "      <th>concavity_worst</th>\n",
              "      <th>concave points_worst</th>\n",
              "      <th>symmetry_worst</th>\n",
              "      <th>fractal_dimension_worst</th>\n",
              "      <th>Unnamed: 32</th>\n",
              "    </tr>\n",
              "  </thead>\n",
              "  <tbody>\n",
              "    <tr>\n",
              "      <th>count</th>\n",
              "      <td>5.690000e+02</td>\n",
              "      <td>569.000000</td>\n",
              "      <td>569.000000</td>\n",
              "      <td>569.000000</td>\n",
              "      <td>569.000000</td>\n",
              "      <td>569.000000</td>\n",
              "      <td>569.000000</td>\n",
              "      <td>569.000000</td>\n",
              "      <td>569.000000</td>\n",
              "      <td>569.000000</td>\n",
              "      <td>569.000000</td>\n",
              "      <td>569.000000</td>\n",
              "      <td>569.000000</td>\n",
              "      <td>569.000000</td>\n",
              "      <td>569.000000</td>\n",
              "      <td>569.000000</td>\n",
              "      <td>569.000000</td>\n",
              "      <td>569.000000</td>\n",
              "      <td>569.000000</td>\n",
              "      <td>569.000000</td>\n",
              "      <td>569.000000</td>\n",
              "      <td>569.000000</td>\n",
              "      <td>569.000000</td>\n",
              "      <td>569.000000</td>\n",
              "      <td>569.000000</td>\n",
              "      <td>569.000000</td>\n",
              "      <td>569.000000</td>\n",
              "      <td>569.000000</td>\n",
              "      <td>569.000000</td>\n",
              "      <td>569.000000</td>\n",
              "      <td>569.000000</td>\n",
              "      <td>0.0</td>\n",
              "    </tr>\n",
              "    <tr>\n",
              "      <th>mean</th>\n",
              "      <td>3.037183e+07</td>\n",
              "      <td>14.127292</td>\n",
              "      <td>19.289649</td>\n",
              "      <td>91.969033</td>\n",
              "      <td>654.889104</td>\n",
              "      <td>0.096360</td>\n",
              "      <td>0.104341</td>\n",
              "      <td>0.088799</td>\n",
              "      <td>0.048919</td>\n",
              "      <td>0.181162</td>\n",
              "      <td>0.062798</td>\n",
              "      <td>0.405172</td>\n",
              "      <td>1.216853</td>\n",
              "      <td>2.866059</td>\n",
              "      <td>40.337079</td>\n",
              "      <td>0.007041</td>\n",
              "      <td>0.025478</td>\n",
              "      <td>0.031894</td>\n",
              "      <td>0.011796</td>\n",
              "      <td>0.020542</td>\n",
              "      <td>0.003795</td>\n",
              "      <td>16.269190</td>\n",
              "      <td>25.677223</td>\n",
              "      <td>107.261213</td>\n",
              "      <td>880.583128</td>\n",
              "      <td>0.132369</td>\n",
              "      <td>0.254265</td>\n",
              "      <td>0.272188</td>\n",
              "      <td>0.114606</td>\n",
              "      <td>0.290076</td>\n",
              "      <td>0.083946</td>\n",
              "      <td>NaN</td>\n",
              "    </tr>\n",
              "    <tr>\n",
              "      <th>std</th>\n",
              "      <td>1.250206e+08</td>\n",
              "      <td>3.524049</td>\n",
              "      <td>4.301036</td>\n",
              "      <td>24.298981</td>\n",
              "      <td>351.914129</td>\n",
              "      <td>0.014064</td>\n",
              "      <td>0.052813</td>\n",
              "      <td>0.079720</td>\n",
              "      <td>0.038803</td>\n",
              "      <td>0.027414</td>\n",
              "      <td>0.007060</td>\n",
              "      <td>0.277313</td>\n",
              "      <td>0.551648</td>\n",
              "      <td>2.021855</td>\n",
              "      <td>45.491006</td>\n",
              "      <td>0.003003</td>\n",
              "      <td>0.017908</td>\n",
              "      <td>0.030186</td>\n",
              "      <td>0.006170</td>\n",
              "      <td>0.008266</td>\n",
              "      <td>0.002646</td>\n",
              "      <td>4.833242</td>\n",
              "      <td>6.146258</td>\n",
              "      <td>33.602542</td>\n",
              "      <td>569.356993</td>\n",
              "      <td>0.022832</td>\n",
              "      <td>0.157336</td>\n",
              "      <td>0.208624</td>\n",
              "      <td>0.065732</td>\n",
              "      <td>0.061867</td>\n",
              "      <td>0.018061</td>\n",
              "      <td>NaN</td>\n",
              "    </tr>\n",
              "    <tr>\n",
              "      <th>min</th>\n",
              "      <td>8.670000e+03</td>\n",
              "      <td>6.981000</td>\n",
              "      <td>9.710000</td>\n",
              "      <td>43.790000</td>\n",
              "      <td>143.500000</td>\n",
              "      <td>0.052630</td>\n",
              "      <td>0.019380</td>\n",
              "      <td>0.000000</td>\n",
              "      <td>0.000000</td>\n",
              "      <td>0.106000</td>\n",
              "      <td>0.049960</td>\n",
              "      <td>0.111500</td>\n",
              "      <td>0.360200</td>\n",
              "      <td>0.757000</td>\n",
              "      <td>6.802000</td>\n",
              "      <td>0.001713</td>\n",
              "      <td>0.002252</td>\n",
              "      <td>0.000000</td>\n",
              "      <td>0.000000</td>\n",
              "      <td>0.007882</td>\n",
              "      <td>0.000895</td>\n",
              "      <td>7.930000</td>\n",
              "      <td>12.020000</td>\n",
              "      <td>50.410000</td>\n",
              "      <td>185.200000</td>\n",
              "      <td>0.071170</td>\n",
              "      <td>0.027290</td>\n",
              "      <td>0.000000</td>\n",
              "      <td>0.000000</td>\n",
              "      <td>0.156500</td>\n",
              "      <td>0.055040</td>\n",
              "      <td>NaN</td>\n",
              "    </tr>\n",
              "    <tr>\n",
              "      <th>25%</th>\n",
              "      <td>8.692180e+05</td>\n",
              "      <td>11.700000</td>\n",
              "      <td>16.170000</td>\n",
              "      <td>75.170000</td>\n",
              "      <td>420.300000</td>\n",
              "      <td>0.086370</td>\n",
              "      <td>0.064920</td>\n",
              "      <td>0.029560</td>\n",
              "      <td>0.020310</td>\n",
              "      <td>0.161900</td>\n",
              "      <td>0.057700</td>\n",
              "      <td>0.232400</td>\n",
              "      <td>0.833900</td>\n",
              "      <td>1.606000</td>\n",
              "      <td>17.850000</td>\n",
              "      <td>0.005169</td>\n",
              "      <td>0.013080</td>\n",
              "      <td>0.015090</td>\n",
              "      <td>0.007638</td>\n",
              "      <td>0.015160</td>\n",
              "      <td>0.002248</td>\n",
              "      <td>13.010000</td>\n",
              "      <td>21.080000</td>\n",
              "      <td>84.110000</td>\n",
              "      <td>515.300000</td>\n",
              "      <td>0.116600</td>\n",
              "      <td>0.147200</td>\n",
              "      <td>0.114500</td>\n",
              "      <td>0.064930</td>\n",
              "      <td>0.250400</td>\n",
              "      <td>0.071460</td>\n",
              "      <td>NaN</td>\n",
              "    </tr>\n",
              "    <tr>\n",
              "      <th>50%</th>\n",
              "      <td>9.060240e+05</td>\n",
              "      <td>13.370000</td>\n",
              "      <td>18.840000</td>\n",
              "      <td>86.240000</td>\n",
              "      <td>551.100000</td>\n",
              "      <td>0.095870</td>\n",
              "      <td>0.092630</td>\n",
              "      <td>0.061540</td>\n",
              "      <td>0.033500</td>\n",
              "      <td>0.179200</td>\n",
              "      <td>0.061540</td>\n",
              "      <td>0.324200</td>\n",
              "      <td>1.108000</td>\n",
              "      <td>2.287000</td>\n",
              "      <td>24.530000</td>\n",
              "      <td>0.006380</td>\n",
              "      <td>0.020450</td>\n",
              "      <td>0.025890</td>\n",
              "      <td>0.010930</td>\n",
              "      <td>0.018730</td>\n",
              "      <td>0.003187</td>\n",
              "      <td>14.970000</td>\n",
              "      <td>25.410000</td>\n",
              "      <td>97.660000</td>\n",
              "      <td>686.500000</td>\n",
              "      <td>0.131300</td>\n",
              "      <td>0.211900</td>\n",
              "      <td>0.226700</td>\n",
              "      <td>0.099930</td>\n",
              "      <td>0.282200</td>\n",
              "      <td>0.080040</td>\n",
              "      <td>NaN</td>\n",
              "    </tr>\n",
              "    <tr>\n",
              "      <th>75%</th>\n",
              "      <td>8.813129e+06</td>\n",
              "      <td>15.780000</td>\n",
              "      <td>21.800000</td>\n",
              "      <td>104.100000</td>\n",
              "      <td>782.700000</td>\n",
              "      <td>0.105300</td>\n",
              "      <td>0.130400</td>\n",
              "      <td>0.130700</td>\n",
              "      <td>0.074000</td>\n",
              "      <td>0.195700</td>\n",
              "      <td>0.066120</td>\n",
              "      <td>0.478900</td>\n",
              "      <td>1.474000</td>\n",
              "      <td>3.357000</td>\n",
              "      <td>45.190000</td>\n",
              "      <td>0.008146</td>\n",
              "      <td>0.032450</td>\n",
              "      <td>0.042050</td>\n",
              "      <td>0.014710</td>\n",
              "      <td>0.023480</td>\n",
              "      <td>0.004558</td>\n",
              "      <td>18.790000</td>\n",
              "      <td>29.720000</td>\n",
              "      <td>125.400000</td>\n",
              "      <td>1084.000000</td>\n",
              "      <td>0.146000</td>\n",
              "      <td>0.339100</td>\n",
              "      <td>0.382900</td>\n",
              "      <td>0.161400</td>\n",
              "      <td>0.317900</td>\n",
              "      <td>0.092080</td>\n",
              "      <td>NaN</td>\n",
              "    </tr>\n",
              "    <tr>\n",
              "      <th>max</th>\n",
              "      <td>9.113205e+08</td>\n",
              "      <td>28.110000</td>\n",
              "      <td>39.280000</td>\n",
              "      <td>188.500000</td>\n",
              "      <td>2501.000000</td>\n",
              "      <td>0.163400</td>\n",
              "      <td>0.345400</td>\n",
              "      <td>0.426800</td>\n",
              "      <td>0.201200</td>\n",
              "      <td>0.304000</td>\n",
              "      <td>0.097440</td>\n",
              "      <td>2.873000</td>\n",
              "      <td>4.885000</td>\n",
              "      <td>21.980000</td>\n",
              "      <td>542.200000</td>\n",
              "      <td>0.031130</td>\n",
              "      <td>0.135400</td>\n",
              "      <td>0.396000</td>\n",
              "      <td>0.052790</td>\n",
              "      <td>0.078950</td>\n",
              "      <td>0.029840</td>\n",
              "      <td>36.040000</td>\n",
              "      <td>49.540000</td>\n",
              "      <td>251.200000</td>\n",
              "      <td>4254.000000</td>\n",
              "      <td>0.222600</td>\n",
              "      <td>1.058000</td>\n",
              "      <td>1.252000</td>\n",
              "      <td>0.291000</td>\n",
              "      <td>0.663800</td>\n",
              "      <td>0.207500</td>\n",
              "      <td>NaN</td>\n",
              "    </tr>\n",
              "  </tbody>\n",
              "</table>\n",
              "</div>"
            ],
            "text/plain": [
              "                 id  radius_mean  ...  fractal_dimension_worst  Unnamed: 32\n",
              "count  5.690000e+02   569.000000  ...               569.000000          0.0\n",
              "mean   3.037183e+07    14.127292  ...                 0.083946          NaN\n",
              "std    1.250206e+08     3.524049  ...                 0.018061          NaN\n",
              "min    8.670000e+03     6.981000  ...                 0.055040          NaN\n",
              "25%    8.692180e+05    11.700000  ...                 0.071460          NaN\n",
              "50%    9.060240e+05    13.370000  ...                 0.080040          NaN\n",
              "75%    8.813129e+06    15.780000  ...                 0.092080          NaN\n",
              "max    9.113205e+08    28.110000  ...                 0.207500          NaN\n",
              "\n",
              "[8 rows x 32 columns]"
            ]
          },
          "metadata": {
            "tags": []
          },
          "execution_count": 8
        }
      ]
    },
    {
      "cell_type": "code",
      "metadata": {
        "colab": {
          "base_uri": "https://localhost:8080/"
        },
        "id": "m1KfhT3COXup",
        "outputId": "126dd5b7-f672-4aec-b268-8c8e19ccbad7"
      },
      "source": [
        "df.info"
      ],
      "execution_count": null,
      "outputs": [
        {
          "output_type": "execute_result",
          "data": {
            "text/plain": [
              "<bound method DataFrame.info of            id diagnosis  ...  fractal_dimension_worst  Unnamed: 32\n",
              "0      842302         M  ...                  0.11890          NaN\n",
              "1      842517         M  ...                  0.08902          NaN\n",
              "2    84300903         M  ...                  0.08758          NaN\n",
              "3    84348301         M  ...                  0.17300          NaN\n",
              "4    84358402         M  ...                  0.07678          NaN\n",
              "..        ...       ...  ...                      ...          ...\n",
              "564    926424         M  ...                  0.07115          NaN\n",
              "565    926682         M  ...                  0.06637          NaN\n",
              "566    926954         M  ...                  0.07820          NaN\n",
              "567    927241         M  ...                  0.12400          NaN\n",
              "568     92751         B  ...                  0.07039          NaN\n",
              "\n",
              "[569 rows x 33 columns]>"
            ]
          },
          "metadata": {
            "tags": []
          },
          "execution_count": 9
        }
      ]
    },
    {
      "cell_type": "markdown",
      "metadata": {
        "id": "yX7ACDsj9M4v"
      },
      "source": [
        "## Feature extraction:\r\n",
        "* X là các thuộc tính được định nghĩa trong feature_name\r\n",
        "* Nhãn dự đoán Y sẽ là cột diagnosis:\r\n",
        "    * B: nhẹ\r\n",
        "    * M: cấp tính"
      ]
    },
    {
      "cell_type": "code",
      "metadata": {
        "id": "XAMBL8Qy83yT"
      },
      "source": [
        "features_name = ['radius_mean', 'texture_mean', 'perimeter_mean', 'area_mean', 'smoothness_mean', 'compactness_mean', 'concavity_mean', 'concave points_mean', 'symmetry_mean', 'fractal_dimension_mean', 'radius_se', 'texture_se', 'perimeter_se', 'area_se', 'smoothness_se', 'compactness_se', 'concavity_se', 'concave points_se', 'symmetry_se', 'fractal_dimension_se', 'radius_worst', 'texture_worst', 'perimeter_worst', 'area_worst', 'smoothness_worst', 'compactness_worst', 'concavity_worst', 'concave points_worst', 'symmetry_worst', 'fractal_dimension_worst']"
      ],
      "execution_count": null,
      "outputs": []
    },
    {
      "cell_type": "code",
      "metadata": {
        "id": "GB87PgL68iPJ"
      },
      "source": [
        "X = df[features_name]\r\n",
        "Y = df['diagnosis']"
      ],
      "execution_count": null,
      "outputs": []
    },
    {
      "cell_type": "code",
      "metadata": {
        "id": "rjqlSU8j-RvY",
        "colab": {
          "base_uri": "https://localhost:8080/",
          "height": 349
        },
        "outputId": "36dc45bd-156d-45f8-d02a-560c2640fb8b"
      },
      "source": [
        "sns.countplot(Y, label = \"Count\")"
      ],
      "execution_count": null,
      "outputs": [
        {
          "output_type": "stream",
          "text": [
            "/usr/local/lib/python3.6/dist-packages/seaborn/_decorators.py:43: FutureWarning: Pass the following variable as a keyword arg: x. From version 0.12, the only valid positional argument will be `data`, and passing other arguments without an explicit keyword will result in an error or misinterpretation.\n",
            "  FutureWarning\n"
          ],
          "name": "stderr"
        },
        {
          "output_type": "execute_result",
          "data": {
            "text/plain": [
              "<matplotlib.axes._subplots.AxesSubplot at 0x7faccd831198>"
            ]
          },
          "metadata": {
            "tags": []
          },
          "execution_count": 12
        },
        {
          "output_type": "display_data",
          "data": {
            "image/png": "[encoded data removed]",
            "text/plain": [
              "<Figure size 432x288 with 1 Axes>"
            ]
          },
          "metadata": {
            "tags": []
          }
        }
      ]
    },
    {
      "cell_type": "markdown",
      "metadata": {
        "id": "LruHeQ7A9qP3"
      },
      "source": [
        "## Chia dữ liệu:\r\n",
        "Chia dữ liệu thành 2 tập theo tỉ lệ 8:2 tương ứng.\r\n",
        "* Train set (455 mẫu)\r\n",
        "* Test set  (114 mẫu)"
      ]
    },
    {
      "cell_type": "code",
      "metadata": {
        "id": "IFbRU4m_98ty"
      },
      "source": [
        "train_X, test_X, train_Y, test_Y = train_test_split(X, Y, test_size = .2, random_state = 2020)"
      ],
      "execution_count": null,
      "outputs": []
    },
    {
      "cell_type": "code",
      "metadata": {
        "colab": {
          "base_uri": "https://localhost:8080/"
        },
        "id": "F32pLXNd-HCp",
        "outputId": "028d1fd4-847f-4fba-d1ff-e55586653250"
      },
      "source": [
        "print(len(train_X))\r\n",
        "print(len(test_X))"
      ],
      "execution_count": null,
      "outputs": [
        {
          "output_type": "stream",
          "text": [
            "455\n",
            "114\n"
          ],
          "name": "stdout"
        }
      ]
    },
    {
      "cell_type": "markdown",
      "metadata": {
        "id": "jLGERrb0Pt9S"
      },
      "source": [
        "# Define Model\r\n"
      ]
    },
    {
      "cell_type": "code",
      "metadata": {
        "id": "1dGpbujVPvk-"
      },
      "source": [
        "\r\n",
        "def print_score(clf, X_train, y_train, X_test, y_test, train=True):\r\n",
        "    if train:\r\n",
        "        pred = clf.predict(X_train)\r\n",
        "        clf_report = pd.DataFrame(classification_report(y_train, pred, output_dict=True))\r\n",
        "        print(\"Train Result:\\n================================================\")\r\n",
        "        print(f\"Accuracy Score: {accuracy_score(y_train, pred) * 100:.2f}%\")\r\n",
        "        print(\"_______________________________________________\")\r\n",
        "        print(f\"CLASSIFICATION REPORT:\\n{clf_report}\")\r\n",
        "        print(\"_______________________________________________\")\r\n",
        "        print(f\"Confusion Matrix: \\n {confusion_matrix(y_train, pred)}\\n\")\r\n",
        "        \r\n",
        "    elif train==False:\r\n",
        "        pred = clf.predict(X_test)\r\n",
        "        clf_report = pd.DataFrame(classification_report(y_test, pred, output_dict=True))\r\n",
        "        print(\"Test Result:\\n================================================\")        \r\n",
        "        print(f\"Accuracy Score: {accuracy_score(y_test, pred) * 100:.2f}%\")\r\n",
        "        print(\"_______________________________________________\")\r\n",
        "        print(f\"CLASSIFICATION REPORT:\\n{clf_report}\")\r\n",
        "        print(\"_______________________________________________\")\r\n",
        "        print(f\"Confusion Matrix: \\n {confusion_matrix(y_test, pred)}\\n\")"
      ],
      "execution_count": null,
      "outputs": []
    },
    {
      "cell_type": "markdown",
      "metadata": {
        "id": "76MpskBFQkwL"
      },
      "source": [
        "## Linear Kernle SVM\r\n",
        "loss = hinge "
      ]
    },
    {
      "cell_type": "code",
      "metadata": {
        "colab": {
          "base_uri": "https://localhost:8080/"
        },
        "id": "fh_hTKwGP1aX",
        "outputId": "eec8e1b8-e725-4bcb-a89d-a6be654d2af0"
      },
      "source": [
        "model = LinearSVC(loss='hinge', dual=True)\r\n",
        "model.fit(train_X, train_Y)\r\n",
        "\r\n",
        "print_score(model, train_X, train_Y, test_X, test_Y, train=True)\r\n",
        "print_score(model, train_X, train_Y, test_X, test_Y, train=False)"
      ],
      "execution_count": null,
      "outputs": [
        {
          "output_type": "stream",
          "text": [
            "Train Result:\n",
            "================================================\n",
            "Accuracy Score: 91.87%\n",
            "_______________________________________________\n",
            "CLASSIFICATION REPORT:\n",
            "                    B           M  accuracy   macro avg  weighted avg\n",
            "precision    0.891975    0.984733  0.918681    0.938354      0.925409\n",
            "recall       0.993127    0.786585  0.918681    0.889856      0.918681\n",
            "f1-score     0.939837    0.874576  0.918681    0.907207      0.916315\n",
            "support    291.000000  164.000000  0.918681  455.000000    455.000000\n",
            "_______________________________________________\n",
            "Confusion Matrix: \n",
            " [[289   2]\n",
            " [ 35 129]]\n",
            "\n",
            "Test Result:\n",
            "================================================\n",
            "Accuracy Score: 92.11%\n",
            "_______________________________________________\n",
            "CLASSIFICATION REPORT:\n",
            "                  B          M  accuracy   macro avg  weighted avg\n",
            "precision   0.88000   1.000000  0.921053    0.940000      0.930526\n",
            "recall      1.00000   0.812500  0.921053    0.906250      0.921053\n",
            "f1-score    0.93617   0.896552  0.921053    0.916361      0.919489\n",
            "support    66.00000  48.000000  0.921053  114.000000    114.000000\n",
            "_______________________________________________\n",
            "Confusion Matrix: \n",
            " [[66  0]\n",
            " [ 9 39]]\n",
            "\n"
          ],
          "name": "stdout"
        },
        {
          "output_type": "stream",
          "text": [
            "/usr/local/lib/python3.6/dist-packages/sklearn/svm/_base.py:947: ConvergenceWarning: Liblinear failed to converge, increase the number of iterations.\n",
            "  \"the number of iterations.\", ConvergenceWarning)\n"
          ],
          "name": "stderr"
        }
      ]
    },
    {
      "cell_type": "markdown",
      "metadata": {
        "id": "_5yUFwBOQ8rD"
      },
      "source": [
        "## Polynomial Kernel SVM"
      ]
    },
    {
      "cell_type": "code",
      "metadata": {
        "colab": {
          "base_uri": "https://localhost:8080/"
        },
        "id": "_kbFlQ6zQfsv",
        "outputId": "98180206-e6eb-44a5-8236-a6f44af7ffdc"
      },
      "source": [
        "# The hyperparameter coef0 controls how much the model is influenced by high degree ploynomials \r\n",
        "model = SVC(kernel='poly', degree=2, gamma='auto', coef0=1, C=5)\r\n",
        "model.fit(train_X, train_Y)\r\n",
        "\r\n",
        "print_score(model, train_X, train_Y, test_X, test_Y, train=True)\r\n",
        "print_score(model, train_X, train_Y, test_X, test_Y, train=False)"
      ],
      "execution_count": null,
      "outputs": [
        {
          "output_type": "stream",
          "text": [
            "Train Result:\n",
            "================================================\n",
            "Accuracy Score: 97.58%\n",
            "_______________________________________________\n",
            "CLASSIFICATION REPORT:\n",
            "                    B           M  accuracy   macro avg  weighted avg\n",
            "precision    0.976190    0.975155  0.975824    0.975673      0.975817\n",
            "recall       0.986254    0.957317  0.975824    0.971786      0.975824\n",
            "f1-score     0.981197    0.966154  0.975824    0.973675      0.975775\n",
            "support    291.000000  164.000000  0.975824  455.000000    455.000000\n",
            "_______________________________________________\n",
            "Confusion Matrix: \n",
            " [[287   4]\n",
            " [  7 157]]\n",
            "\n",
            "Test Result:\n",
            "================================================\n",
            "Accuracy Score: 96.49%\n",
            "_______________________________________________\n",
            "CLASSIFICATION REPORT:\n",
            "                   B          M  accuracy   macro avg  weighted avg\n",
            "precision   0.955882   0.978261  0.964912    0.967072      0.965305\n",
            "recall      0.984848   0.937500  0.964912    0.961174      0.964912\n",
            "f1-score    0.970149   0.957447  0.964912    0.963798      0.964801\n",
            "support    66.000000  48.000000  0.964912  114.000000    114.000000\n",
            "_______________________________________________\n",
            "Confusion Matrix: \n",
            " [[65  1]\n",
            " [ 3 45]]\n",
            "\n"
          ],
          "name": "stdout"
        }
      ]
    },
    {
      "cell_type": "markdown",
      "metadata": {
        "id": "Issj40_OSB9y"
      },
      "source": [
        "## Radial Kernel SVM"
      ]
    },
    {
      "cell_type": "code",
      "metadata": {
        "colab": {
          "base_uri": "https://localhost:8080/"
        },
        "id": "fdWAP6jSSDSs",
        "outputId": "f7f2f7ba-6c2c-41f7-8be4-5ffdf9e241e0"
      },
      "source": [
        "model = SVC(kernel='rbf', gamma=0.5, C=0.1)\r\n",
        "model.fit(train_X, train_Y)\r\n",
        "\r\n",
        "print_score(model, train_X, train_Y, test_X, test_Y, train=True)\r\n",
        "print_score(model, train_X, train_Y, test_X, test_Y, train=False)"
      ],
      "execution_count": null,
      "outputs": [
        {
          "output_type": "stream",
          "text": [
            "Train Result:\n",
            "================================================\n",
            "Accuracy Score: 63.96%\n",
            "_______________________________________________\n",
            "CLASSIFICATION REPORT:\n",
            "                    B      M  accuracy  macro avg  weighted avg\n",
            "precision    0.639560    0.0   0.63956    0.31978      0.409038\n",
            "recall       1.000000    0.0   0.63956    0.50000      0.639560\n",
            "f1-score     0.780161    0.0   0.63956    0.39008      0.498960\n",
            "support    291.000000  164.0   0.63956  455.00000    455.000000\n",
            "_______________________________________________\n",
            "Confusion Matrix: \n",
            " [[291   0]\n",
            " [164   0]]\n",
            "\n",
            "Test Result:\n",
            "================================================\n",
            "Accuracy Score: 57.89%\n",
            "_______________________________________________\n",
            "CLASSIFICATION REPORT:\n",
            "                   B     M  accuracy   macro avg  weighted avg\n",
            "precision   0.578947   0.0  0.578947    0.289474      0.335180\n",
            "recall      1.000000   0.0  0.578947    0.500000      0.578947\n",
            "f1-score    0.733333   0.0  0.578947    0.366667      0.424561\n",
            "support    66.000000  48.0  0.578947  114.000000    114.000000\n",
            "_______________________________________________\n",
            "Confusion Matrix: \n",
            " [[66  0]\n",
            " [48  0]]\n",
            "\n"
          ],
          "name": "stdout"
        },
        {
          "output_type": "stream",
          "text": [
            "/usr/local/lib/python3.6/dist-packages/sklearn/metrics/_classification.py:1272: UndefinedMetricWarning: Precision and F-score are ill-defined and being set to 0.0 in labels with no predicted samples. Use `zero_division` parameter to control this behavior.\n",
            "  _warn_prf(average, modifier, msg_start, len(result))\n",
            "/usr/local/lib/python3.6/dist-packages/sklearn/metrics/_classification.py:1272: UndefinedMetricWarning: Precision and F-score are ill-defined and being set to 0.0 in labels with no predicted samples. Use `zero_division` parameter to control this behavior.\n",
            "  _warn_prf(average, modifier, msg_start, len(result))\n"
          ],
          "name": "stderr"
        }
      ]
    },
    {
      "cell_type": "markdown",
      "metadata": {
        "id": "PEjIsrDoTjxh"
      },
      "source": [
        "## Fine Tuning SVM model"
      ]
    },
    {
      "cell_type": "code",
      "metadata": {
        "colab": {
          "base_uri": "https://localhost:8080/"
        },
        "id": "hwxP_bIITlbL",
        "outputId": "bf7b5f5d-e4b7-408f-c7bc-478c2a00fc6e"
      },
      "source": [
        "from sklearn.model_selection import GridSearchCV\r\n",
        "\r\n",
        "param_grid = {'C': [0.01, 0.1, 0.5], \r\n",
        "              'gamma': [0.1, 0.01, 0.001], \r\n",
        "              'kernel': ['poly', 'linear']} \r\n",
        "\r\n",
        "grid = GridSearchCV(SVC(), param_grid, refit=True, verbose=1, cv=5, iid=True)\r\n",
        "grid.fit(train_X, train_Y)\r\n",
        "\r\n",
        "best_params = grid.best_params_\r\n",
        "print(f\"Best params: {best_params}\")\r\n",
        "\r\n",
        "svm_clf = SVC(**best_params)\r\n",
        "svm_clf.fit(train_X, train_Y)\r\n",
        "print_score(svm_clf, train_X, train_Y, test_X, test_Y, train=True)\r\n",
        "print_score(svm_clf, train_X, train_Y, test_X, test_Y, train=False)"
      ],
      "execution_count": null,
      "outputs": [
        {
          "output_type": "stream",
          "text": [
            "Fitting 5 folds for each of 18 candidates, totalling 90 fits\n"
          ],
          "name": "stdout"
        },
        {
          "output_type": "stream",
          "text": [
            "[Parallel(n_jobs=1)]: Using backend SequentialBackend with 1 concurrent workers.\n"
          ],
          "name": "stderr"
        }
      ]
    },
    {
      "cell_type": "markdown",
      "metadata": {
        "id": "dJPmXg7J_ozJ"
      },
      "source": [
        "##Decision Tree"
      ]
    },
    {
      "cell_type": "code",
      "metadata": {
        "id": "PR7MGUJw_wX2"
      },
      "source": [
        "from sklearn import tree"
      ],
      "execution_count": null,
      "outputs": []
    },
    {
      "cell_type": "code",
      "metadata": {
        "id": "B-AZ3SMVgaQk"
      },
      "source": [
        "clf = tree.DecisionTreeClassifier()\r\n",
        "clf = clf.fit(train_X,train_Y)"
      ],
      "execution_count": null,
      "outputs": []
    },
    {
      "cell_type": "code",
      "metadata": {
        "id": "zgxmtw80ppnD"
      },
      "source": [
        "from sklearn.tree import export_graphviz\r\n",
        "export_graphviz(\r\n",
        "    clf,\r\n",
        "    out_file=\"/content/iris_tree.dot\",\r\n",
        "    feature_names = features_name,\r\n",
        "    class_names= 'diagnosis',\r\n",
        "    rounded=True,\r\n",
        "    filled=True\r\n",
        " )"
      ],
      "execution_count": null,
      "outputs": []
    },
    {
      "cell_type": "code",
      "metadata": {
        "id": "H3U9sJFnrKjH"
      },
      "source": [
        "!dot -Tpng iris_tree.dot -o iris_tree.png"
      ],
      "execution_count": null,
      "outputs": []
    },
    {
      "cell_type": "code",
      "metadata": {
        "colab": {
          "base_uri": "https://localhost:8080/"
        },
        "id": "2LxO4N1Wg4in",
        "outputId": "762369f9-3874-45fc-bde9-8e7c02a2b337"
      },
      "source": [
        "print_score(clf, train_X, train_Y, test_X, test_Y, train = True)\r\n",
        "print_score(clf, train_X, train_Y, test_X, test_Y, train = False)\r\n"
      ],
      "execution_count": null,
      "outputs": [
        {
          "output_type": "stream",
          "text": [
            "Train Result:\n",
            "================================================\n",
            "Accuracy Score: 100.00%\n",
            "_______________________________________________\n",
            "CLASSIFICATION REPORT:\n",
            "               B      M  accuracy  macro avg  weighted avg\n",
            "precision    1.0    1.0       1.0        1.0           1.0\n",
            "recall       1.0    1.0       1.0        1.0           1.0\n",
            "f1-score     1.0    1.0       1.0        1.0           1.0\n",
            "support    291.0  164.0       1.0      455.0         455.0\n",
            "_______________________________________________\n",
            "Confusion Matrix: \n",
            " [[291   0]\n",
            " [  0 164]]\n",
            "\n",
            "Test Result:\n",
            "================================================\n",
            "Accuracy Score: 94.74%\n",
            "_______________________________________________\n",
            "CLASSIFICATION REPORT:\n",
            "                   B          M  accuracy   macro avg  weighted avg\n",
            "precision   0.968750   0.920000  0.947368    0.944375      0.948224\n",
            "recall      0.939394   0.958333  0.947368    0.948864      0.947368\n",
            "f1-score    0.953846   0.938776  0.947368    0.946311      0.947501\n",
            "support    66.000000  48.000000  0.947368  114.000000    114.000000\n",
            "_______________________________________________\n",
            "Confusion Matrix: \n",
            " [[62  4]\n",
            " [ 2 46]]\n",
            "\n"
          ],
          "name": "stdout"
        }
      ]
    },
    {
      "cell_type": "code",
      "metadata": {
        "colab": {
          "base_uri": "https://localhost:8080/",
          "height": 558
        },
        "id": "y1DyOe-sqBsk",
        "outputId": "63fa2734-31e2-4d6b-b5b9-3834456030f5"
      },
      "source": [
        "plot_confusion_matrix(clf, train_X, train_Y ,cmap='magma', values_format = '.5g')\r\n",
        "plot_confusion_matrix(clf, test_X, test_Y ,cmap='magma', values_format = '.5g')"
      ],
      "execution_count": null,
      "outputs": [
        {
          "output_type": "execute_result",
          "data": {
            "text/plain": [
              "<sklearn.metrics._plot.confusion_matrix.ConfusionMatrixDisplay at 0x7fdc8ba5ae80>"
            ]
          },
          "metadata": {
            "tags": []
          },
          "execution_count": 57
        },
        {
          "output_type": "display_data",
          "data": {
            "image/png": "[encoded data removed]",
            "text/plain": [
              "<Figure size 432x288 with 2 Axes>"
            ]
          },
          "metadata": {
            "tags": []
          }
        },
        {
          "output_type": "display_data",
          "data": {
            "image/png": "[encoded data removed]",
            "text/plain": [
              "<Figure size 432x288 with 2 Axes>"
            ]
          },
          "metadata": {
            "tags": []
          }
        }
      ]
    },
    {
      "cell_type": "markdown",
      "metadata": {
        "id": "oiDzpU85_o3l"
      },
      "source": [
        "## Naive Bayes"
      ]
    },
    {
      "cell_type": "code",
      "metadata": {
        "id": "shWF1LjKh2RC"
      },
      "source": [
        "from sklearn.naive_bayes import GaussianNB"
      ],
      "execution_count": null,
      "outputs": []
    },
    {
      "cell_type": "code",
      "metadata": {
        "id": "_Y4S-ivzh5Y2"
      },
      "source": [
        "gnb = GaussianNB()\r\n",
        "gnb = gnb.fit(train_X,train_Y)"
      ],
      "execution_count": null,
      "outputs": []
    },
    {
      "cell_type": "code",
      "metadata": {
        "colab": {
          "base_uri": "https://localhost:8080/"
        },
        "id": "dl9y4gnuiBTT",
        "outputId": "a7e586b2-2f49-4f2f-8d5b-c4a11f7cca37"
      },
      "source": [
        "print_score(gnb, train_X, train_Y, test_X, test_Y, train = True)\r\n",
        "print_score(gnb, train_X, train_Y, test_X, test_Y, train = False)"
      ],
      "execution_count": null,
      "outputs": [
        {
          "output_type": "stream",
          "text": [
            "Train Result:\n",
            "================================================\n",
            "Accuracy Score: 94.07%\n",
            "_______________________________________________\n",
            "CLASSIFICATION REPORT:\n",
            "                    B           M  accuracy   macro avg  weighted avg\n",
            "precision    0.937086    0.947712  0.940659    0.942399      0.940916\n",
            "recall       0.972509    0.884146  0.940659    0.928327      0.940659\n",
            "f1-score     0.954469    0.914826  0.940659    0.934648      0.940180\n",
            "support    291.000000  164.000000  0.940659  455.000000    455.000000\n",
            "_______________________________________________\n",
            "Confusion Matrix: \n",
            " [[283   8]\n",
            " [ 19 145]]\n",
            "\n",
            "Test Result:\n",
            "================================================\n",
            "Accuracy Score: 97.37%\n",
            "_______________________________________________\n",
            "CLASSIFICATION REPORT:\n",
            "                   B          M  accuracy   macro avg  weighted avg\n",
            "precision   0.956522   1.000000  0.973684    0.978261      0.974828\n",
            "recall      1.000000   0.937500  0.973684    0.968750      0.973684\n",
            "f1-score    0.977778   0.967742  0.973684    0.972760      0.973552\n",
            "support    66.000000  48.000000  0.973684  114.000000    114.000000\n",
            "_______________________________________________\n",
            "Confusion Matrix: \n",
            " [[66  0]\n",
            " [ 3 45]]\n",
            "\n"
          ],
          "name": "stdout"
        }
      ]
    },
    {
      "cell_type": "code",
      "metadata": {
        "colab": {
          "base_uri": "https://localhost:8080/",
          "height": 558
        },
        "id": "CXfpBkwxs65E",
        "outputId": "1ba53aa8-5830-4830-df92-c69f74e926e6"
      },
      "source": [
        "plot_confusion_matrix(gnb, train_X, train_Y ,cmap='magma', values_format = '.5g')\r\n",
        "plot_confusion_matrix(gnb, test_X, test_Y ,cmap='magma', values_format = '.5g')"
      ],
      "execution_count": null,
      "outputs": [
        {
          "output_type": "execute_result",
          "data": {
            "text/plain": [
              "<sklearn.metrics._plot.confusion_matrix.ConfusionMatrixDisplay at 0x7fdc8b94ea90>"
            ]
          },
          "metadata": {
            "tags": []
          },
          "execution_count": 61
        },
        {
          "output_type": "display_data",
          "data": {
            "image/png": "[encoded data removed]",
            "text/plain": [
              "<Figure size 432x288 with 2 Axes>"
            ]
          },
          "metadata": {
            "tags": []
          }
        },
        {
          "output_type": "display_data",
          "data": {
            "image/png": "[encoded data removed]",
            "text/plain": [
              "<Figure size 432x288 with 2 Axes>"
            ]
          },
          "metadata": {
            "tags": []
          }
        }
      ]
    },
    {
      "cell_type": "markdown",
      "metadata": {
        "id": "VqqE5CgUiMyU"
      },
      "source": [
        "## KNN"
      ]
    },
    {
      "cell_type": "code",
      "metadata": {
        "id": "PTzpn4EAiONe"
      },
      "source": [
        "from sklearn.neighbors import KNeighborsClassifier"
      ],
      "execution_count": null,
      "outputs": []
    },
    {
      "cell_type": "code",
      "metadata": {
        "id": "eFYiI5GKiWuX"
      },
      "source": [
        "knn = KNeighborsClassifier( n_neighbors=2 )\r\n",
        "knn = knn.fit(train_X,train_Y)"
      ],
      "execution_count": null,
      "outputs": []
    },
    {
      "cell_type": "code",
      "metadata": {
        "colab": {
          "base_uri": "https://localhost:8080/",
          "height": 281
        },
        "id": "IhFtFFMx0m0Z",
        "outputId": "6881fdc4-452d-464f-9b8e-9ebfc28228be"
      },
      "source": [
        "training_accuracy = []\r\n",
        "test_accuracy = []\r\n",
        "# try n_neighbors from 1 to 10.\r\n",
        "neighbors_settings = range(1, 15)\r\n",
        "\r\n",
        "for n_neighbors in neighbors_settings:\r\n",
        "    # build the model\r\n",
        "    clf = KNeighborsClassifier(n_neighbors=n_neighbors)\r\n",
        "    clf.fit(train_X, train_Y)\r\n",
        "    # record training set accuracy\r\n",
        "    training_accuracy.append(clf.score(train_X, train_Y))\r\n",
        "    # record generalization accuracy\r\n",
        "    test_accuracy.append(clf.score(test_X, test_Y))\r\n",
        "plt.plot(neighbors_settings, training_accuracy, label=\"training accuracy\")\r\n",
        "plt.plot(neighbors_settings, test_accuracy, label=\"test accuracy\")\r\n",
        "plt.legend()\r\n"
      ],
      "execution_count": null,
      "outputs": [
        {
          "output_type": "execute_result",
          "data": {
            "text/plain": [
              "<matplotlib.legend.Legend at 0x7faccac3ba90>"
            ]
          },
          "metadata": {
            "tags": []
          },
          "execution_count": 41
        },
        {
          "output_type": "display_data",
          "data": {
            "image/png": "[encoded data removed]",
            "text/plain": [
              "<Figure size 432x288 with 1 Axes>"
            ]
          },
          "metadata": {
            "tags": []
          }
        }
      ]
    },
    {
      "cell_type": "code",
      "metadata": {
        "colab": {
          "base_uri": "https://localhost:8080/"
        },
        "id": "sH_sgr89ihkv",
        "outputId": "0ce31aca-ecb9-4fe7-97eb-eef2085cf2f1"
      },
      "source": [
        "print_score(knn, train_X, train_Y, test_X, test_Y, train = True)\r\n",
        "print_score(knn, train_X, train_Y, test_X, test_Y, train = False)"
      ],
      "execution_count": null,
      "outputs": [
        {
          "output_type": "stream",
          "text": [
            "Train Result:\n",
            "================================================\n",
            "Accuracy Score: 93.85%\n",
            "_______________________________________________\n",
            "CLASSIFICATION REPORT:\n",
            "                    B           M  accuracy   macro avg  weighted avg\n",
            "precision    0.912226    1.000000  0.938462    0.956113      0.943863\n",
            "recall       1.000000    0.829268  0.938462    0.914634      0.938462\n",
            "f1-score     0.954098    0.906667  0.938462    0.930383      0.937002\n",
            "support    291.000000  164.000000  0.938462  455.000000    455.000000\n",
            "_______________________________________________\n",
            "Confusion Matrix: \n",
            " [[291   0]\n",
            " [ 28 136]]\n",
            "\n",
            "Test Result:\n",
            "================================================\n",
            "Accuracy Score: 95.61%\n",
            "_______________________________________________\n",
            "CLASSIFICATION REPORT:\n",
            "                   B          M  accuracy   macro avg  weighted avg\n",
            "precision   0.929577   1.000000   0.95614    0.964789      0.959229\n",
            "recall      1.000000   0.895833   0.95614    0.947917      0.956140\n",
            "f1-score    0.963504   0.945055   0.95614    0.954279      0.955736\n",
            "support    66.000000  48.000000   0.95614  114.000000    114.000000\n",
            "_______________________________________________\n",
            "Confusion Matrix: \n",
            " [[66  0]\n",
            " [ 5 43]]\n",
            "\n"
          ],
          "name": "stdout"
        }
      ]
    },
    {
      "cell_type": "markdown",
      "metadata": {
        "id": "fUr23rk2jwcx"
      },
      "source": [
        "1KNN"
      ]
    },
    {
      "cell_type": "code",
      "metadata": {
        "id": "ZypMDBJFnptS"
      },
      "source": [
        "from sklearn.metrics import accuracy_score,confusion_matrix,plot_confusion_matrix\r\n"
      ],
      "execution_count": null,
      "outputs": []
    },
    {
      "cell_type": "code",
      "metadata": {
        "colab": {
          "base_uri": "https://localhost:8080/"
        },
        "id": "GA6uuMJojvWi",
        "outputId": "92490273-74e3-44c0-a90b-86bc1ec2762c"
      },
      "source": [
        "knn = KNeighborsClassifier( n_neighbors=1 )\r\n",
        "knn = knn.fit(train_X,train_Y)\r\n",
        "print_score(knn, train_X, train_Y, test_X, test_Y, train = True)\r\n",
        "print_score(knn, train_X, train_Y, test_X, test_Y, train = False)"
      ],
      "execution_count": null,
      "outputs": [
        {
          "output_type": "stream",
          "text": [
            "Train Result:\n",
            "================================================\n",
            "Accuracy Score: 100.00%\n",
            "_______________________________________________\n",
            "CLASSIFICATION REPORT:\n",
            "               B      M  accuracy  macro avg  weighted avg\n",
            "precision    1.0    1.0       1.0        1.0           1.0\n",
            "recall       1.0    1.0       1.0        1.0           1.0\n",
            "f1-score     1.0    1.0       1.0        1.0           1.0\n",
            "support    257.0  141.0       1.0      398.0         398.0\n",
            "_______________________________________________\n",
            "Confusion Matrix: \n",
            " [[257   0]\n",
            " [  0 141]]\n",
            "\n",
            "Test Result:\n",
            "================================================\n",
            "Accuracy Score: 91.81%\n",
            "_______________________________________________\n",
            "CLASSIFICATION REPORT:\n",
            "                    B          M  accuracy   macro avg  weighted avg\n",
            "precision    0.913462   0.925373  0.918129    0.919417      0.918407\n",
            "recall       0.950000   0.873239  0.918129    0.911620      0.918129\n",
            "f1-score     0.931373   0.898551  0.918129    0.914962      0.917745\n",
            "support    100.000000  71.000000  0.918129  171.000000    171.000000\n",
            "_______________________________________________\n",
            "Confusion Matrix: \n",
            " [[95  5]\n",
            " [ 9 62]]\n",
            "\n"
          ],
          "name": "stdout"
        }
      ]
    },
    {
      "cell_type": "markdown",
      "metadata": {
        "id": "PjMZDdX3jzP8"
      },
      "source": [
        "2KNN\r\n"
      ]
    },
    {
      "cell_type": "code",
      "metadata": {
        "colab": {
          "base_uri": "https://localhost:8080/"
        },
        "id": "KnpU9zc3jvAt",
        "outputId": "73a2c1ff-64e0-4617-88fc-52a7bbadf492"
      },
      "source": [
        "knn = KNeighborsClassifier( n_neighbors=2 )\r\n",
        "knn = knn.fit(train_X,train_Y)\r\n",
        "\r\n",
        "print_score(knn, train_X, train_Y, test_X, test_Y, train = True)\r\n",
        "print_score(knn, train_X, train_Y, test_X, test_Y, train = False)"
      ],
      "execution_count": null,
      "outputs": [
        {
          "output_type": "stream",
          "text": [
            "Train Result:\n",
            "================================================\n",
            "Accuracy Score: 94.47%\n",
            "_______________________________________________\n",
            "CLASSIFICATION REPORT:\n",
            "                    B           M  accuracy   macro avg  weighted avg\n",
            "precision    0.921147    1.000000  0.944724    0.960573      0.949082\n",
            "recall       1.000000    0.843972  0.944724    0.921986      0.944724\n",
            "f1-score     0.958955    0.915385  0.944724    0.937170      0.943519\n",
            "support    257.000000  141.000000  0.944724  398.000000    398.000000\n",
            "_______________________________________________\n",
            "Confusion Matrix: \n",
            " [[257   0]\n",
            " [ 22 119]]\n",
            "\n",
            "Test Result:\n",
            "================================================\n",
            "Accuracy Score: 92.98%\n",
            "_______________________________________________\n",
            "CLASSIFICATION REPORT:\n",
            "                    B          M  accuracy   macro avg  weighted avg\n",
            "precision    0.892857   1.000000  0.929825    0.946429      0.937343\n",
            "recall       1.000000   0.830986  0.929825    0.915493      0.929825\n",
            "f1-score     0.943396   0.907692  0.929825    0.925544      0.928572\n",
            "support    100.000000  71.000000  0.929825  171.000000    171.000000\n",
            "_______________________________________________\n",
            "Confusion Matrix: \n",
            " [[100   0]\n",
            " [ 12  59]]\n",
            "\n"
          ],
          "name": "stdout"
        }
      ]
    },
    {
      "cell_type": "code",
      "metadata": {
        "colab": {
          "base_uri": "https://localhost:8080/",
          "height": 301
        },
        "id": "jPcc2450nozV",
        "outputId": "5df16c22-781d-430a-90e7-025d862c756e"
      },
      "source": [
        "plot_confusion_matrix(knn, test_X, test_Y ,cmap='magma', values_format = '.5g')"
      ],
      "execution_count": null,
      "outputs": [
        {
          "output_type": "execute_result",
          "data": {
            "text/plain": [
              "<sklearn.metrics._plot.confusion_matrix.ConfusionMatrixDisplay at 0x7fdc8d61dc50>"
            ]
          },
          "metadata": {
            "tags": []
          },
          "execution_count": 45
        },
        {
          "output_type": "display_data",
          "data": {
            "image/png": "[encoded data removed]",
            "text/plain": [
              "<Figure size 432x288 with 2 Axes>"
            ]
          },
          "metadata": {
            "tags": []
          }
        }
      ]
    },
    {
      "cell_type": "markdown",
      "metadata": {
        "id": "ll-KJQtJo5-Y"
      },
      "source": [
        "4KNN"
      ]
    },
    {
      "cell_type": "code",
      "metadata": {
        "colab": {
          "base_uri": "https://localhost:8080/"
        },
        "id": "MAzLSn8pmNqh",
        "outputId": "824083be-1084-4361-ef37-6c3a85abb310"
      },
      "source": [
        "knn = KNeighborsClassifier( n_neighbors=4 )\r\n",
        "knn = knn.fit(train_X,train_Y)\r\n",
        "\r\n",
        "print_score(knn, train_X, train_Y, test_X, test_Y, train = True)\r\n",
        "print_score(knn, train_X, train_Y, test_X, test_Y, train = False)"
      ],
      "execution_count": null,
      "outputs": [
        {
          "output_type": "stream",
          "text": [
            "Train Result:\n",
            "================================================\n",
            "Accuracy Score: 94.47%\n",
            "_______________________________________________\n",
            "CLASSIFICATION REPORT:\n",
            "                    B           M  accuracy   macro avg  weighted avg\n",
            "precision    0.936803    0.961240  0.944724    0.949022      0.945460\n",
            "recall       0.980545    0.879433  0.944724    0.929989      0.944724\n",
            "f1-score     0.958175    0.918519  0.944724    0.938347      0.944126\n",
            "support    257.000000  141.000000  0.944724  398.000000    398.000000\n",
            "_______________________________________________\n",
            "Confusion Matrix: \n",
            " [[252   5]\n",
            " [ 17 124]]\n",
            "\n",
            "Test Result:\n",
            "================================================\n",
            "Accuracy Score: 92.98%\n",
            "_______________________________________________\n",
            "CLASSIFICATION REPORT:\n",
            "                    B          M  accuracy   macro avg  weighted avg\n",
            "precision    0.915094   0.953846  0.929825    0.934470      0.931184\n",
            "recall       0.970000   0.873239  0.929825    0.921620      0.929825\n",
            "f1-score     0.941748   0.911765  0.929825    0.926756      0.929299\n",
            "support    100.000000  71.000000  0.929825  171.000000    171.000000\n",
            "_______________________________________________\n",
            "Confusion Matrix: \n",
            " [[97  3]\n",
            " [ 9 62]]\n",
            "\n"
          ],
          "name": "stdout"
        }
      ]
    },
    {
      "cell_type": "code",
      "metadata": {
        "colab": {
          "base_uri": "https://localhost:8080/",
          "height": 297
        },
        "id": "9JAh8Q_Qo24g",
        "outputId": "2e42dc5e-9606-4aef-aba3-7eac78950590"
      },
      "source": [
        "plot_confusion_matrix(knn, test_X, test_Y ,cmap='magma', values_format = '.5g')"
      ],
      "execution_count": null,
      "outputs": [
        {
          "output_type": "execute_result",
          "data": {
            "text/plain": [
              "<sklearn.metrics._plot.confusion_matrix.ConfusionMatrixDisplay at 0x7fdc8bca0358>"
            ]
          },
          "metadata": {
            "tags": []
          },
          "execution_count": 49
        },
        {
          "output_type": "display_data",
          "data": {
            "image/png": "[encoded data removed]",
            "text/plain": [
              "<Figure size 432x288 with 2 Axes>"
            ]
          },
          "metadata": {
            "tags": []
          }
        }
      ]
    },
    {
      "cell_type": "markdown",
      "metadata": {
        "id": "ohulZegQip06"
      },
      "source": [
        "## Logistic Regression"
      ]
    },
    {
      "cell_type": "code",
      "metadata": {
        "id": "bhILE57EipAJ"
      },
      "source": [
        "from sklearn.linear_model import LogisticRegression"
      ],
      "execution_count": null,
      "outputs": []
    },
    {
      "cell_type": "code",
      "metadata": {
        "colab": {
          "base_uri": "https://localhost:8080/"
        },
        "id": "4C6l7aEWjS5X",
        "outputId": "448cf5c1-7910-4b74-f14c-ae81220e54d2"
      },
      "source": [
        "logisticRegr = LogisticRegression()\r\n",
        "logisticRegr = logisticRegr.fit(train_X, train_Y)"
      ],
      "execution_count": null,
      "outputs": [
        {
          "output_type": "stream",
          "text": [
            "/usr/local/lib/python3.6/dist-packages/sklearn/linear_model/_logistic.py:940: ConvergenceWarning: lbfgs failed to converge (status=1):\n",
            "STOP: TOTAL NO. of ITERATIONS REACHED LIMIT.\n",
            "\n",
            "Increase the number of iterations (max_iter) or scale the data as shown in:\n",
            "    https://scikit-learn.org/stable/modules/preprocessing.html\n",
            "Please also refer to the documentation for alternative solver options:\n",
            "    https://scikit-learn.org/stable/modules/linear_model.html#logistic-regression\n",
            "  extra_warning_msg=_LOGISTIC_SOLVER_CONVERGENCE_MSG)\n"
          ],
          "name": "stderr"
        }
      ]
    },
    {
      "cell_type": "code",
      "metadata": {
        "colab": {
          "base_uri": "https://localhost:8080/"
        },
        "id": "4H6lb_iVkAPX",
        "outputId": "3a719995-cb86-45fc-8b80-83aba577669f"
      },
      "source": [
        "print_score(logisticRegr, train_X, train_Y, test_X, test_Y, train = True)\r\n",
        "print_score(logisticRegr, train_X, train_Y, test_X, test_Y, train = False)"
      ],
      "execution_count": null,
      "outputs": [
        {
          "output_type": "stream",
          "text": [
            "Train Result:\n",
            "================================================\n",
            "Accuracy Score: 95.16%\n",
            "_______________________________________________\n",
            "CLASSIFICATION REPORT:\n",
            "                    B           M  accuracy   macro avg  weighted avg\n",
            "precision    0.946844    0.961039  0.951648    0.953941      0.951960\n",
            "recall       0.979381    0.902439  0.951648    0.940910      0.951648\n",
            "f1-score     0.962838    0.930818  0.951648    0.946828      0.951296\n",
            "support    291.000000  164.000000  0.951648  455.000000    455.000000\n",
            "_______________________________________________\n",
            "Confusion Matrix: \n",
            " [[285   6]\n",
            " [ 16 148]]\n",
            "\n",
            "Test Result:\n",
            "================================================\n",
            "Accuracy Score: 97.37%\n",
            "_______________________________________________\n",
            "CLASSIFICATION REPORT:\n",
            "                   B          M  accuracy   macro avg  weighted avg\n",
            "precision   0.970149   0.978723  0.973684    0.974436      0.973759\n",
            "recall      0.984848   0.958333  0.973684    0.971591      0.973684\n",
            "f1-score    0.977444   0.968421  0.973684    0.972932      0.973645\n",
            "support    66.000000  48.000000  0.973684  114.000000    114.000000\n",
            "_______________________________________________\n",
            "Confusion Matrix: \n",
            " [[65  1]\n",
            " [ 2 46]]\n",
            "\n"
          ],
          "name": "stdout"
        }
      ]
    },
    {
      "cell_type": "code",
      "metadata": {
        "colab": {
          "base_uri": "https://localhost:8080/",
          "height": 558
        },
        "id": "vBviLYg-tgpw",
        "outputId": "b9cb565f-061b-4e6b-8537-55832da28598"
      },
      "source": [
        "plot_confusion_matrix(logisticRegr, train_X, train_Y ,cmap='magma', values_format = '.5g')\r\n",
        "plot_confusion_matrix(logisticRegr, test_X, test_Y ,cmap='magma', values_format = '.5g')"
      ],
      "execution_count": null,
      "outputs": [
        {
          "output_type": "execute_result",
          "data": {
            "text/plain": [
              "<sklearn.metrics._plot.confusion_matrix.ConfusionMatrixDisplay at 0x7fdc8b831630>"
            ]
          },
          "metadata": {
            "tags": []
          },
          "execution_count": 67
        },
        {
          "output_type": "display_data",
          "data": {
            "image/png": "[encoded data removed]",
            "text/plain": [
              "<Figure size 432x288 with 2 Axes>"
            ]
          },
          "metadata": {
            "tags": []
          }
        },
        {
          "output_type": "display_data",
          "data": {
            "image/png": "[encoded data removed]",
            "text/plain": [
              "<Figure size 432x288 with 2 Axes>"
            ]
          },
          "metadata": {
            "tags": []
          }
        }
      ]
    },
    {
      "cell_type": "markdown",
      "metadata": {
        "id": "Gne7gUqUtE3S"
      },
      "source": [
        "## Voting Classified\r\n"
      ]
    },
    {
      "cell_type": "code",
      "metadata": {
        "id": "NXYMG301tIAo"
      },
      "source": [
        "from sklearn.ensemble import VotingClassifier"
      ],
      "execution_count": null,
      "outputs": []
    },
    {
      "cell_type": "code",
      "metadata": {
        "id": "YMBwfxLotNzk"
      },
      "source": [
        "model_svc = SVC(kernel='poly', degree=2, gamma='auto', coef0=1, C=5)\r\n",
        "model_tree = tree.DecisionTreeClassifier()\r\n",
        "model_nb = GaussianNB()\r\n",
        "model_knn = KNeighborsClassifier(n_neighbors=2)\r\n",
        "model_log = LogisticRegression()"
      ],
      "execution_count": null,
      "outputs": []
    },
    {
      "cell_type": "code",
      "metadata": {
        "colab": {
          "base_uri": "https://localhost:8080/"
        },
        "id": "oSNGKrmktwz6",
        "outputId": "c054dacb-8da9-486d-e257-de101aa65228"
      },
      "source": [
        "voting_clf = VotingClassifier(\r\n",
        " estimators=[('lr', model_log), ('dt', model_tree), ('svc', model_svc), ('nb', model_nb), ('knn', model_knn)],\r\n",
        " voting='hard')\r\n",
        "voting_clf.fit(train_X, train_Y)\r\n"
      ],
      "execution_count": null,
      "outputs": [
        {
          "output_type": "stream",
          "text": [
            "/usr/local/lib/python3.6/dist-packages/sklearn/linear_model/_logistic.py:940: ConvergenceWarning: lbfgs failed to converge (status=1):\n",
            "STOP: TOTAL NO. of ITERATIONS REACHED LIMIT.\n",
            "\n",
            "Increase the number of iterations (max_iter) or scale the data as shown in:\n",
            "    https://scikit-learn.org/stable/modules/preprocessing.html\n",
            "Please also refer to the documentation for alternative solver options:\n",
            "    https://scikit-learn.org/stable/modules/linear_model.html#logistic-regression\n",
            "  extra_warning_msg=_LOGISTIC_SOLVER_CONVERGENCE_MSG)\n"
          ],
          "name": "stderr"
        },
        {
          "output_type": "execute_result",
          "data": {
            "text/plain": [
              "VotingClassifier(estimators=[('lr',\n",
              "                              LogisticRegression(C=1.0, class_weight=None,\n",
              "                                                 dual=False, fit_intercept=True,\n",
              "                                                 intercept_scaling=1,\n",
              "                                                 l1_ratio=None, max_iter=100,\n",
              "                                                 multi_class='auto',\n",
              "                                                 n_jobs=None, penalty='l2',\n",
              "                                                 random_state=None,\n",
              "                                                 solver='lbfgs', tol=0.0001,\n",
              "                                                 verbose=0, warm_start=False)),\n",
              "                             ('dt',\n",
              "                              DecisionTreeClassifier(ccp_alpha=0.0,\n",
              "                                                     class_weight=None,\n",
              "                                                     criterion='gini',...\n",
              "                                  gamma='auto', kernel='poly', max_iter=-1,\n",
              "                                  probability=False, random_state=None,\n",
              "                                  shrinking=True, tol=0.001, verbose=False)),\n",
              "                             ('nb',\n",
              "                              GaussianNB(priors=None, var_smoothing=1e-09)),\n",
              "                             ('knn',\n",
              "                              KNeighborsClassifier(algorithm='auto',\n",
              "                                                   leaf_size=30,\n",
              "                                                   metric='minkowski',\n",
              "                                                   metric_params=None,\n",
              "                                                   n_jobs=None, n_neighbors=2,\n",
              "                                                   p=2, weights='uniform'))],\n",
              "                 flatten_transform=True, n_jobs=None, voting='hard',\n",
              "                 weights=None)"
            ]
          },
          "metadata": {
            "tags": []
          },
          "execution_count": 32
        }
      ]
    },
    {
      "cell_type": "code",
      "metadata": {
        "colab": {
          "base_uri": "https://localhost:8080/"
        },
        "id": "_yPiC2R3u0FB",
        "outputId": "0fabc16d-9ebd-4bc4-9cb9-e3e6359a64f2"
      },
      "source": [
        "print_score(voting_clf, train_X, train_Y, test_X, test_Y, train = True)\r\n",
        "print_score(voting_clf, train_X, train_Y, test_X, test_Y, train = False)"
      ],
      "execution_count": null,
      "outputs": [
        {
          "output_type": "stream",
          "text": [
            "Train Result:\n",
            "================================================\n",
            "Accuracy Score: 97.58%\n",
            "_______________________________________________\n",
            "CLASSIFICATION REPORT:\n",
            "                    B           M  accuracy   macro avg  weighted avg\n",
            "precision    0.963576    1.000000  0.975824    0.981788      0.976705\n",
            "recall       1.000000    0.932927  0.975824    0.966463      0.975824\n",
            "f1-score     0.981450    0.965300  0.975824    0.973375      0.975629\n",
            "support    291.000000  164.000000  0.975824  455.000000    455.000000\n",
            "_______________________________________________\n",
            "Confusion Matrix: \n",
            " [[291   0]\n",
            " [ 11 153]]\n",
            "\n",
            "Test Result:\n",
            "================================================\n",
            "Accuracy Score: 99.12%\n",
            "_______________________________________________\n",
            "CLASSIFICATION REPORT:\n",
            "                   B          M  accuracy   macro avg  weighted avg\n",
            "precision   0.985075   1.000000  0.991228    0.992537      0.991359\n",
            "recall      1.000000   0.979167  0.991228    0.989583      0.991228\n",
            "f1-score    0.992481   0.989474  0.991228    0.990977      0.991215\n",
            "support    66.000000  48.000000  0.991228  114.000000    114.000000\n",
            "_______________________________________________\n",
            "Confusion Matrix: \n",
            " [[66  0]\n",
            " [ 1 47]]\n",
            "\n"
          ],
          "name": "stdout"
        }
      ]
    }
  ]
}