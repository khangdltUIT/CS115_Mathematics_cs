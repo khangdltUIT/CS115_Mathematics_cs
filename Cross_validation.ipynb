{
  "nbformat": 4,
  "nbformat_minor": 0,
  "metadata": {
    "colab": {
      "name": "Cross-validation.ipynb",
      "provenance": [],
      "toc_visible": true,
      "authorship_tag": "ABX9TyPvRzkfgLOC6eVtBF4ccwFD",
      "include_colab_link": true
    },
    "kernelspec": {
      "name": "python3",
      "display_name": "Python 3"
    }
  },
  "cells": [
    {
      "cell_type": "markdown",
      "metadata": {
        "id": "view-in-github",
        "colab_type": "text"
      },
      "source": [
        "<a href=\"https://colab.research.google.com/github/khangdltUIT/CS115_Mathematics_cs/blob/main/Cross_validation.ipynb\" target=\"_parent\"><img src=\"https://colab.research.google.com/assets/colab-badge.svg\" alt=\"Open In Colab\"/></a>"
      ]
    },
    {
      "cell_type": "markdown",
      "metadata": {
        "id": "IXzRhoNLoiQe"
      },
      "source": [
        "# Cross-validation"
      ]
    },
    {
      "cell_type": "markdown",
      "metadata": {
        "id": "E9GccixipboV"
      },
      "source": [
        "## Load Dataset"
      ]
    },
    {
      "cell_type": "code",
      "metadata": {
        "id": "c1sVY1l4s6Mm"
      },
      "source": [
        "from IPython.display import clear_output"
      ],
      "execution_count": 1,
      "outputs": []
    },
    {
      "cell_type": "code",
      "metadata": {
        "colab": {
          "base_uri": "https://localhost:8080/"
        },
        "id": "HTAtT47dofli",
        "outputId": "988c687e-e4ac-4c66-9346-f6db49590695"
      },
      "source": [
        "from google.colab import drive\r\n",
        "drive.mount(\"/content/drive\")"
      ],
      "execution_count": 2,
      "outputs": [
        {
          "output_type": "stream",
          "text": [
            "Mounted at /content/drive\n"
          ],
          "name": "stdout"
        }
      ]
    },
    {
      "cell_type": "code",
      "metadata": {
        "id": "-aN1NWjJoz2V"
      },
      "source": [
        "!cp '/content/drive/MyDrive/REPORT/Course Project/Mathematics for CS/breast_cancer_wisconsin.csv' '/content/breast_cancer_wisconsin.csv'"
      ],
      "execution_count": 3,
      "outputs": []
    },
    {
      "cell_type": "markdown",
      "metadata": {
        "id": "Wh4eZVJqpie_"
      },
      "source": [
        "## Read dataset"
      ]
    },
    {
      "cell_type": "code",
      "metadata": {
        "id": "uGZN11tRppaf"
      },
      "source": [
        "import pandas as pd"
      ],
      "execution_count": 4,
      "outputs": []
    },
    {
      "cell_type": "code",
      "metadata": {
        "id": "oBeCRfFPphvD"
      },
      "source": [
        "df = pd.read_csv(\"/content/breast_cancer_wisconsin.csv\")"
      ],
      "execution_count": 5,
      "outputs": []
    },
    {
      "cell_type": "code",
      "metadata": {
        "id": "EVfnTpkhpsmP"
      },
      "source": [
        "features_name = ['radius_mean', 'texture_mean', 'perimeter_mean', 'area_mean', 'smoothness_mean', 'compactness_mean', 'concavity_mean', 'concave points_mean', 'symmetry_mean', 'fractal_dimension_mean', 'radius_se', 'texture_se', 'perimeter_se', 'area_se', 'smoothness_se', 'compactness_se', 'concavity_se', 'concave points_se', 'symmetry_se', 'fractal_dimension_se', 'radius_worst', 'texture_worst', 'perimeter_worst', 'area_worst', 'smoothness_worst', 'compactness_worst', 'concavity_worst', 'concave points_worst', 'symmetry_worst', 'fractal_dimension_worst']"
      ],
      "execution_count": 6,
      "outputs": []
    },
    {
      "cell_type": "code",
      "metadata": {
        "id": "Kb1naNmJpu4M"
      },
      "source": [
        "X = df[features_name]\r\n",
        "Y = df['diagnosis']"
      ],
      "execution_count": 7,
      "outputs": []
    },
    {
      "cell_type": "markdown",
      "metadata": {
        "id": "_h-sfLGGq9iA"
      },
      "source": [
        "## Import Models Machine Learning"
      ]
    },
    {
      "cell_type": "code",
      "metadata": {
        "id": "jhY963WarBBe"
      },
      "source": [
        "from sklearn.svm import LinearSVC\r\n",
        "from sklearn.svm import SVC\r\n",
        "from sklearn import tree\r\n",
        "from sklearn.naive_bayes import GaussianNB\r\n",
        "from sklearn.neighbors import KNeighborsClassifier\r\n",
        "from sklearn.linear_model import LogisticRegression\r\n",
        "from sklearn.model_selection import train_test_split\r\n",
        "from sklearn.metrics import accuracy_score, confusion_matrix, classification_report"
      ],
      "execution_count": 15,
      "outputs": []
    },
    {
      "cell_type": "markdown",
      "metadata": {
        "id": "1dEBbodMrnhY"
      },
      "source": [
        "## Measurance"
      ]
    },
    {
      "cell_type": "code",
      "metadata": {
        "id": "3Gjn1I2irnBY"
      },
      "source": [
        "scoring = ['precision_macro', 'recall_macro', 'f1_macro']"
      ],
      "execution_count": null,
      "outputs": []
    },
    {
      "cell_type": "code",
      "metadata": {
        "id": "EXTxTqezjClS"
      },
      "source": [
        "def print_score(clf, X_train, y_train, X_test, y_test, train=True):\r\n",
        "    if train:\r\n",
        "        pred = clf.predict(X_train)\r\n",
        "        clf_report = pd.DataFrame(classification_report(y_train, pred, output_dict=True))\r\n",
        "        print(\"Train Result:\\n================================================\")\r\n",
        "        print(f\"Accuracy Score: {accuracy_score(y_train, pred) * 100:.2f}%\")\r\n",
        "        print(\"_______________________________________________\")\r\n",
        "        print(f\"CLASSIFICATION REPORT:\\n{clf_report}\")\r\n",
        "        print(\"_______________________________________________\")\r\n",
        "        print(f\"Confusion Matrix: \\n {confusion_matrix(y_train, pred)}\\n\")\r\n",
        "        \r\n",
        "    elif train==False:\r\n",
        "        pred = clf.predict(X_test)\r\n",
        "        clf_report = pd.DataFrame(classification_report(y_test, pred, output_dict=True))\r\n",
        "        print(\"Test Result:\\n================================================\")        \r\n",
        "        print(f\"Accuracy Score: {accuracy_score(y_test, pred) * 100:.2f}%\")\r\n",
        "        print(\"_______________________________________________\")\r\n",
        "        print(f\"CLASSIFICATION REPORT:\\n{clf_report}\")\r\n",
        "        print(\"_______________________________________________\")\r\n",
        "        print(f\"Confusion Matrix: \\n {confusion_matrix(y_test, pred)}\\n\")"
      ],
      "execution_count": 12,
      "outputs": []
    },
    {
      "cell_type": "markdown",
      "metadata": {
        "id": "qCVX0BK6okrZ"
      },
      "source": [
        "## K-fold Cross-validation"
      ]
    },
    {
      "cell_type": "code",
      "metadata": {
        "id": "fzBkQ_eZveD4"
      },
      "source": [
        "from sklearn.model_selection import cross_val_predict\r\n",
        "from sklearn.metrics import confusion_matrix"
      ],
      "execution_count": null,
      "outputs": []
    },
    {
      "cell_type": "code",
      "metadata": {
        "id": "GWHsIKs_pbJ_"
      },
      "source": [
        "from sklearn.model_selection import KFold\r\n",
        "from sklearn.model_selection import LeaveOneOut\r\n",
        "from sklearn.model_selection import cross_val_score\r\n",
        "from sklearn.model_selection import cross_validate\r\n",
        "from sklearn import metrics"
      ],
      "execution_count": null,
      "outputs": []
    },
    {
      "cell_type": "code",
      "metadata": {
        "id": "VtdvSpWJpx5d"
      },
      "source": [
        "log = LogisticRegression()\r\n",
        "sc_log = cross_val_score(log, X, Y, cv=5,scoring='f1_macro')\r\n",
        "\r\n",
        "knn = KNeighborsClassifier(n_neighbors=4)\r\n",
        "sc_knn = cross_val_score(knn, X, Y, cv=5,scoring='f1_macro')\r\n",
        "\r\n",
        "linear = SVC(kernel = 'linear', C = 0.1, gamma=1)\r\n",
        "sc_linear = cross_val_score(linear, X, Y, cv=5,scoring='f1_macro')\r\n",
        "\r\n",
        "poly = SVC(kernel='poly')\r\n",
        "sc_poly = cross_val_score(poly, X, Y, cv=5,scoring='f1_macro')\r\n",
        "\r\n",
        "dtree = tree.DecisionTreeClassifier()\r\n",
        "sc_tree = cross_val_score(dtree, X, Y, cv=5,scoring='f1_macro')\r\n",
        "\r\n",
        "nb = GaussianNB()\r\n",
        "sc_nb = cross_val_score(nb, X, Y, cv=5,scoring='f1_macro')\r\n",
        "\r\n",
        "delete_log = True\r\n",
        "if delete_log == True: clear_output()"
      ],
      "execution_count": null,
      "outputs": []
    },
    {
      "cell_type": "code",
      "metadata": {
        "id": "9gdYF6J0EiY0"
      },
      "source": [
        "score_model = [sc_log, sc_knn, sc_linear, sc_poly, sc_tree, sc_nb]"
      ],
      "execution_count": null,
      "outputs": []
    },
    {
      "cell_type": "code",
      "metadata": {
        "colab": {
          "base_uri": "https://localhost:8080/"
        },
        "id": "cKq7IMJUR0-z",
        "outputId": "a740a631-b8b5-4c4d-987d-bf8619f22042"
      },
      "source": [
        "print(sc_log)"
      ],
      "execution_count": null,
      "outputs": [
        {
          "output_type": "stream",
          "text": [
            "[0.92297297 0.934348   0.952129   0.93369339 0.94368771]\n"
          ],
          "name": "stdout"
        }
      ]
    },
    {
      "cell_type": "code",
      "metadata": {
        "id": "F0BZq8VWR5KD",
        "colab": {
          "base_uri": "https://localhost:8080/"
        },
        "outputId": "2d09b758-b0d1-40fd-bd0a-a58eb0a840da"
      },
      "source": [
        "print(sc_linear)"
      ],
      "execution_count": null,
      "outputs": [
        {
          "output_type": "stream",
          "text": [
            "[0.93220627 0.94345238 0.98095556 0.91474865 0.95327876]\n"
          ],
          "name": "stdout"
        }
      ]
    },
    {
      "cell_type": "code",
      "metadata": {
        "colab": {
          "base_uri": "https://localhost:8080/"
        },
        "id": "m8VuDrK5DoMU",
        "outputId": "79fbd6c8-d3ae-4354-8d6d-79f3358e5309"
      },
      "source": [
        "for iscore in score_model: \r\n",
        "    #print(iscore.std())\r\n",
        "    print(\"Mean: {}, STD: {}\".format(iscore.mean().round(5), iscore.std().round(5)))"
      ],
      "execution_count": null,
      "outputs": [
        {
          "output_type": "stream",
          "text": [
            "Mean: 0.93737, STD: 0.00988\n",
            "Mean: 0.91449, STD: 0.02887\n",
            "Mean: 0.94493, STD: 0.0221\n",
            "Mean: 0.89691, STD: 0.04778\n",
            "Mean: 0.9142, STD: 0.01016\n",
            "Mean: 0.93334, STD: 0.01576\n"
          ],
          "name": "stdout"
        }
      ]
    },
    {
      "cell_type": "markdown",
      "metadata": {
        "id": "H4RLg_ukHUx1"
      },
      "source": [
        "## Leave-one-out"
      ]
    },
    {
      "cell_type": "code",
      "metadata": {
        "id": "9GCk7OFTHlL1"
      },
      "source": [
        "loo = LeaveOneOut()"
      ],
      "execution_count": null,
      "outputs": []
    },
    {
      "cell_type": "code",
      "metadata": {
        "id": "wpLu-YOjHWOm"
      },
      "source": [
        "log = LogisticRegression()\r\n",
        "scr_log = cross_val_score(log, X, Y, cv=loo,scoring='f1_macro')\r\n",
        "\r\n",
        "knn = KNeighborsClassifier(n_neighbors=4)\r\n",
        "scr_knn = cross_val_score(knn, X, Y, cv=loo,scoring='f1_macro')\r\n",
        "\r\n",
        "linear = SVC(kernel = 'linear', C = 0.1, gamma=1)\r\n",
        "scr_linear = cross_val_score(linear, X, Y, cv=loo,scoring='f1_macro')\r\n",
        "\r\n",
        "poly = SVC(kernel='poly')\r\n",
        "scr_poly = cross_val_score(poly, X, Y, cv=loo,scoring='f1_macro')\r\n",
        "\r\n",
        "dtree = tree.DecisionTreeClassifier()\r\n",
        "scr_tree = cross_val_score(dtree, X, Y, cv=loo,scoring='f1_macro')\r\n",
        "\r\n",
        "nb = GaussianNB()\r\n",
        "scr_nb = cross_val_score(nb, X, Y, cv=loo,scoring='f1_macro')\r\n",
        "\r\n",
        "delete_log = True\r\n",
        "if delete_log == True: clear_output()"
      ],
      "execution_count": null,
      "outputs": []
    },
    {
      "cell_type": "code",
      "metadata": {
        "id": "psJsxTZOMVm_"
      },
      "source": [
        "score_model_loo = [scr_log, scr_knn, scr_linear, scr_poly, scr_tree, scr_nb]"
      ],
      "execution_count": null,
      "outputs": []
    },
    {
      "cell_type": "code",
      "metadata": {
        "colab": {
          "base_uri": "https://localhost:8080/"
        },
        "id": "HlUpTWftMiAx",
        "outputId": "47257997-afd5-4f46-9c40-f6505780752e"
      },
      "source": [
        "for iscore in score_model_loo: \r\n",
        "    #print(iscore.std())\r\n",
        "    print(\"Mean: {}, STD: {}\".format(iscore.mean().round(5), iscore.std().round(5)))"
      ],
      "execution_count": null,
      "outputs": [
        {
          "output_type": "stream",
          "text": [
            "Mean: 0.94376, STD: 0.23038\n",
            "Mean: 0.92619, STD: 0.26147\n",
            "Mean: 0.95255, STD: 0.2126\n",
            "Mean: 0.91388, STD: 0.28054\n",
            "Mean: 0.92267, STD: 0.26711\n",
            "Mean: 0.93849, STD: 0.24027\n"
          ],
          "name": "stdout"
        }
      ]
    },
    {
      "cell_type": "markdown",
      "metadata": {
        "id": "XmVHh4ugiKr2"
      },
      "source": [
        "## Phạt mô hình"
      ]
    },
    {
      "cell_type": "code",
      "metadata": {
        "id": "8OfMDbfwhXR8"
      },
      "source": [
        "xtrain, xtest, ytrain, ytest = train_test_split(X, Y, test_size = 0.2, random_state = 0)"
      ],
      "execution_count": 10,
      "outputs": []
    },
    {
      "cell_type": "code",
      "metadata": {
        "colab": {
          "base_uri": "https://localhost:8080/"
        },
        "id": "2n6WZoGxitBH",
        "outputId": "7954a94b-d75a-4b3b-e126-c8082b0802a3"
      },
      "source": [
        "log = LogisticRegression(class_weight={'B': 1.342, 'M':0.797})\r\n",
        "log = log.fit(xtrain, ytrain)"
      ],
      "execution_count": 26,
      "outputs": [
        {
          "output_type": "stream",
          "text": [
            "/usr/local/lib/python3.6/dist-packages/sklearn/linear_model/_logistic.py:940: ConvergenceWarning: lbfgs failed to converge (status=1):\n",
            "STOP: TOTAL NO. of ITERATIONS REACHED LIMIT.\n",
            "\n",
            "Increase the number of iterations (max_iter) or scale the data as shown in:\n",
            "    https://scikit-learn.org/stable/modules/preprocessing.html\n",
            "Please also refer to the documentation for alternative solver options:\n",
            "    https://scikit-learn.org/stable/modules/linear_model.html#logistic-regression\n",
            "  extra_warning_msg=_LOGISTIC_SOLVER_CONVERGENCE_MSG)\n"
          ],
          "name": "stderr"
        }
      ]
    },
    {
      "cell_type": "code",
      "metadata": {
        "colab": {
          "base_uri": "https://localhost:8080/"
        },
        "id": "hGwW6iXMjH68",
        "outputId": "ddd35741-7d3f-404e-fb23-42a4956086a2"
      },
      "source": [
        "print_score(log, xtrain, ytrain, xtest, ytest, train = True)\r\n",
        "print_score(log, xtrain, ytrain, xtest, ytest, train = False)"
      ],
      "execution_count": 27,
      "outputs": [
        {
          "output_type": "stream",
          "text": [
            "Train Result:\n",
            "================================================\n",
            "Accuracy Score: 93.41%\n",
            "_______________________________________________\n",
            "CLASSIFICATION REPORT:\n",
            "                    B           M  accuracy   macro avg  weighted avg\n",
            "precision    0.916667    0.972028  0.934066    0.944347      0.936743\n",
            "recall       0.986207    0.842424  0.934066    0.914316      0.934066\n",
            "f1-score     0.950166    0.902597  0.934066    0.926382      0.932916\n",
            "support    290.000000  165.000000  0.934066  455.000000    455.000000\n",
            "_______________________________________________\n",
            "Confusion Matrix: \n",
            " [[286   4]\n",
            " [ 26 139]]\n",
            "\n",
            "Test Result:\n",
            "================================================\n",
            "Accuracy Score: 94.74%\n",
            "_______________________________________________\n",
            "CLASSIFICATION REPORT:\n",
            "                   B          M  accuracy   macro avg  weighted avg\n",
            "precision   0.942029   0.955556  0.947368    0.948792      0.947606\n",
            "recall      0.970149   0.914894  0.947368    0.942521      0.947368\n",
            "f1-score    0.955882   0.934783  0.947368    0.945332      0.947183\n",
            "support    67.000000  47.000000  0.947368  114.000000    114.000000\n",
            "_______________________________________________\n",
            "Confusion Matrix: \n",
            " [[65  2]\n",
            " [ 4 43]]\n",
            "\n"
          ],
          "name": "stdout"
        }
      ]
    },
    {
      "cell_type": "code",
      "metadata": {
        "id": "-Ghq_vnakzVE"
      },
      "source": [
        "linear = SVC(kernel = 'linear', C = 0.1, gamma=1, class_weight={'B': 1.342, 'M':0.797}) \r\n",
        "linear = linear.fit(xtrain, ytrain)"
      ],
      "execution_count": 32,
      "outputs": []
    },
    {
      "cell_type": "code",
      "metadata": {
        "colab": {
          "base_uri": "https://localhost:8080/"
        },
        "id": "u2a3GJeOnNR3",
        "outputId": "333fda47-d4a2-4459-b0cf-b6d583bcd50f"
      },
      "source": [
        "print_score(linear, xtrain, ytrain, xtest, ytest, train = True)\r\n",
        "print_score(linear, xtrain, ytrain, xtest, ytest, train = False)"
      ],
      "execution_count": 33,
      "outputs": [
        {
          "output_type": "stream",
          "text": [
            "Train Result:\n",
            "================================================\n",
            "Accuracy Score: 96.48%\n",
            "_______________________________________________\n",
            "CLASSIFICATION REPORT:\n",
            "                    B           M  accuracy   macro avg  weighted avg\n",
            "precision    0.959732    0.974522  0.964835    0.967127      0.965095\n",
            "recall       0.986207    0.927273  0.964835    0.956740      0.964835\n",
            "f1-score     0.972789    0.950311  0.964835    0.961550      0.964638\n",
            "support    290.000000  165.000000  0.964835  455.000000    455.000000\n",
            "_______________________________________________\n",
            "Confusion Matrix: \n",
            " [[286   4]\n",
            " [ 12 153]]\n",
            "\n",
            "Test Result:\n",
            "================================================\n",
            "Accuracy Score: 93.86%\n",
            "_______________________________________________\n",
            "CLASSIFICATION REPORT:\n",
            "                   B          M  accuracy   macro avg  weighted avg\n",
            "precision   0.954545   0.916667  0.938596    0.935606      0.938929\n",
            "recall      0.940299   0.936170  0.938596    0.938234      0.938596\n",
            "f1-score    0.947368   0.926316  0.938596    0.936842      0.938689\n",
            "support    67.000000  47.000000  0.938596  114.000000    114.000000\n",
            "_______________________________________________\n",
            "Confusion Matrix: \n",
            " [[63  4]\n",
            " [ 3 44]]\n",
            "\n"
          ],
          "name": "stdout"
        }
      ]
    },
    {
      "cell_type": "code",
      "metadata": {
        "id": "8jEr5eHfn1qF"
      },
      "source": [
        "poly = SVC(kernel = 'poly', class_weight={'B': 1.342, 'M':0.797}) \r\n",
        "poly = poly.fit(xtrain, ytrain)"
      ],
      "execution_count": 34,
      "outputs": []
    },
    {
      "cell_type": "code",
      "metadata": {
        "colab": {
          "base_uri": "https://localhost:8080/"
        },
        "id": "wY2zcbfcoD1D",
        "outputId": "009a06ee-8968-477d-8f02-87c08ff47ade"
      },
      "source": [
        "print_score(poly, xtrain, ytrain, xtest, ytest, train = True)\r\n",
        "print_score(poly, xtrain, ytrain, xtest, ytest, train = False)"
      ],
      "execution_count": 35,
      "outputs": [
        {
          "output_type": "stream",
          "text": [
            "Train Result:\n",
            "================================================\n",
            "Accuracy Score: 89.01%\n",
            "_______________________________________________\n",
            "CLASSIFICATION REPORT:\n",
            "                    B           M  accuracy   macro avg  weighted avg\n",
            "precision    0.855030    0.991453   0.89011    0.923241      0.904502\n",
            "recall       0.996552    0.703030   0.89011    0.849791      0.890110\n",
            "f1-score     0.920382    0.822695   0.89011    0.871539      0.884957\n",
            "support    290.000000  165.000000   0.89011  455.000000    455.000000\n",
            "_______________________________________________\n",
            "Confusion Matrix: \n",
            " [[289   1]\n",
            " [ 49 116]]\n",
            "\n",
            "Test Result:\n",
            "================================================\n",
            "Accuracy Score: 88.60%\n",
            "_______________________________________________\n",
            "CLASSIFICATION REPORT:\n",
            "                   B          M  accuracy   macro avg  weighted avg\n",
            "precision   0.837500   1.000000  0.885965    0.918750      0.904496\n",
            "recall      1.000000   0.723404  0.885965    0.861702      0.885965\n",
            "f1-score    0.911565   0.839506  0.885965    0.875535      0.881856\n",
            "support    67.000000  47.000000  0.885965  114.000000    114.000000\n",
            "_______________________________________________\n",
            "Confusion Matrix: \n",
            " [[67  0]\n",
            " [13 34]]\n",
            "\n"
          ],
          "name": "stdout"
        }
      ]
    },
    {
      "cell_type": "code",
      "metadata": {
        "id": "NUTbXVCMofBn"
      },
      "source": [
        "dtree = tree.DecisionTreeClassifier(class_weight={'B': 1.342, 'M':0.797})\r\n",
        "dtree = dtree.fit(xtrain, ytrain)"
      ],
      "execution_count": 38,
      "outputs": []
    },
    {
      "cell_type": "code",
      "metadata": {
        "colab": {
          "base_uri": "https://localhost:8080/"
        },
        "id": "7yQDu4A5olAQ",
        "outputId": "e3c7e1f9-c872-42bb-f1fc-90dc26ec5d4a"
      },
      "source": [
        "print_score(dtree, xtrain, ytrain, xtest, ytest, train = True)\r\n",
        "print_score(dtree, xtrain, ytrain, xtest, ytest, train = False)"
      ],
      "execution_count": 40,
      "outputs": [
        {
          "output_type": "stream",
          "text": [
            "Train Result:\n",
            "================================================\n",
            "Accuracy Score: 100.00%\n",
            "_______________________________________________\n",
            "CLASSIFICATION REPORT:\n",
            "               B      M  accuracy  macro avg  weighted avg\n",
            "precision    1.0    1.0       1.0        1.0           1.0\n",
            "recall       1.0    1.0       1.0        1.0           1.0\n",
            "f1-score     1.0    1.0       1.0        1.0           1.0\n",
            "support    290.0  165.0       1.0      455.0         455.0\n",
            "_______________________________________________\n",
            "Confusion Matrix: \n",
            " [[290   0]\n",
            " [  0 165]]\n",
            "\n",
            "Test Result:\n",
            "================================================\n",
            "Accuracy Score: 89.47%\n",
            "_______________________________________________\n",
            "CLASSIFICATION REPORT:\n",
            "                   B          M  accuracy   macro avg  weighted avg\n",
            "precision   0.923077   0.857143  0.894737    0.890110      0.895894\n",
            "recall      0.895522   0.893617  0.894737    0.894570      0.894737\n",
            "f1-score    0.909091   0.875000  0.894737    0.892045      0.895036\n",
            "support    67.000000  47.000000  0.894737  114.000000    114.000000\n",
            "_______________________________________________\n",
            "Confusion Matrix: \n",
            " [[60  7]\n",
            " [ 5 42]]\n",
            "\n"
          ],
          "name": "stdout"
        }
      ]
    },
    {
      "cell_type": "code",
      "metadata": {
        "id": "n646qRVwp32G"
      },
      "source": [
        "import numpy as np"
      ],
      "execution_count": 43,
      "outputs": []
    },
    {
      "cell_type": "code",
      "metadata": {
        "id": "a4yTsiORp04O"
      },
      "source": [
        "from sklearn.utils.class_weight import compute_class_weight\r\n",
        "class_weights = compute_class_weight('balanced', np.unique(Y), Y)"
      ],
      "execution_count": 44,
      "outputs": []
    },
    {
      "cell_type": "code",
      "metadata": {
        "colab": {
          "base_uri": "https://localhost:8080/"
        },
        "id": "GpxZuC96p6C0",
        "outputId": "9dfb83b3-9267-4719-8625-bfef728f9f5d"
      },
      "source": [
        "print(class_weights)"
      ],
      "execution_count": 45,
      "outputs": [
        {
          "output_type": "stream",
          "text": [
            "[0.79691877 1.34198113]\n"
          ],
          "name": "stdout"
        }
      ]
    }
  ]
}